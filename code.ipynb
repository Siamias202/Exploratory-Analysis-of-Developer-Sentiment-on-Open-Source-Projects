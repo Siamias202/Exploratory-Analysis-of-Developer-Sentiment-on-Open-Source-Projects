{
 "cells": [
  {
   "cell_type": "code",
   "execution_count": 1,
   "metadata": {},
   "outputs": [],
   "source": [
    "import pandas as pd\n",
    "from datetime import timedelta, datetime, timezone\n",
    "import scipy.stats as stats\n",
    "import numpy as np\n",
    "import matplotlib.pyplot as plt\n",
    "import seaborn as sns\n",
    "from statsmodels.stats.proportion import proportions_ztest"
   ]
  },
  {
   "cell_type": "code",
   "execution_count": 2,
   "metadata": {},
   "outputs": [],
   "source": [
    "df1=pd.read_csv(r'L:\\Thesis\\Exploratory-Analysis-of-Developer-Sentiment-on-Open-Source-Projects\\Dataset\\commits.csv')"
   ]
  },
  {
   "cell_type": "code",
   "execution_count": 4,
   "metadata": {},
   "outputs": [
    {
     "data": {
      "text/plain": [
       "1628"
      ]
     },
     "execution_count": 4,
     "metadata": {},
     "output_type": "execute_result"
    }
   ],
   "source": [
    "len(df1['repo'].unique())"
   ]
  },
  {
   "cell_type": "markdown",
   "metadata": {},
   "source": [
    "# RQ-2\n"
   ]
  },
  {
   "cell_type": "code",
   "execution_count": 42,
   "metadata": {},
   "outputs": [],
   "source": [
    "df2=pd.read_csv(r'L:\\Thesis\\Exploratory-Analysis-of-Developer-Sentiment-on-Open-Source-Projects\\Dataset\\commits.csv')"
   ]
  },
  {
   "cell_type": "code",
   "execution_count": 49,
   "metadata": {},
   "outputs": [
    {
     "data": {
      "text/plain": [
       "array(['neutral', 'negative', 'positive'], dtype=object)"
      ]
     },
     "execution_count": 49,
     "metadata": {},
     "output_type": "execute_result"
    }
   ],
   "source": [
    "df2['message_sentiment'].unique()"
   ]
  },
  {
   "cell_type": "code",
   "execution_count": 50,
   "metadata": {},
   "outputs": [
    {
     "data": {
      "text/plain": [
       "array(['neutral', 'negative', 'positive'], dtype=object)"
      ]
     },
     "execution_count": 50,
     "metadata": {},
     "output_type": "execute_result"
    }
   ],
   "source": [
    "df2['message_sentiment'].unique()"
   ]
  },
  {
   "cell_type": "code",
   "execution_count": 51,
   "metadata": {},
   "outputs": [
    {
     "name": "stdout",
     "output_type": "stream",
     "text": [
      "Proportion of negative sentiment at irregular times: 0.13821345455747053\n",
      "Proportion of negative sentiment at regular times: 0.8617865454425294\n",
      "Z-score: -inf\n",
      "p-value: 0.0\n",
      "Reject the null hypothesis: There is a significant difference in the proportion of negative sentiment between irregular and regular times.\n"
     ]
    },
    {
     "name": "stderr",
     "output_type": "stream",
     "text": [
      "d:\\Anaconda_envs\\envs\\myenv\\lib\\site-packages\\statsmodels\\stats\\weightstats.py:792: RuntimeWarning: divide by zero encountered in double_scalars\n",
      "  zstat = value / std\n"
     ]
    }
   ],
   "source": [
    "night_count = (df2['part_of_day_commit'] == 'Night').sum()\n",
    "\n",
    "# Subset the data for negative sentiment\n",
    "negative_sentiment_data = df2[df2['message_sentiment'] == 'negative']\n",
    "\n",
    "# Create subsets for irregular and regular times\n",
    "irregular_times_data = negative_sentiment_data[negative_sentiment_data['part_of_day_commit'] == 'Night']\n",
    "regular_times_data = negative_sentiment_data[~(negative_sentiment_data['part_of_day_commit'] == 'Night')]\n",
    "\n",
    "# Calculate proportions\n",
    "if len(negative_sentiment_data) > 0:  # Check if there are any negative sentiment messages\n",
    "    irregular_proportion = len(irregular_times_data) / len(negative_sentiment_data)\n",
    "    regular_proportion = len(regular_times_data) / len(negative_sentiment_data)\n",
    "\n",
    "    # Perform z-test\n",
    "    z_stat, p_value = proportions_ztest([len(irregular_times_data), len(regular_times_data)], \n",
    "                                         [night_count, len(negative_sentiment_data) - night_count])\n",
    "\n",
    "    # Output the results\n",
    "    print(\"Proportion of negative sentiment at irregular times:\", irregular_proportion)\n",
    "    print(\"Proportion of negative sentiment at regular times:\", regular_proportion)\n",
    "    print(\"Z-score:\", z_stat)\n",
    "    print(\"p-value:\", p_value)\n",
    "\n",
    "    # Determine significance\n",
    "    alpha = 0.05\n",
    "    if p_value < alpha:\n",
    "        print(\"Reject the null hypothesis: There is a significant difference in the proportion of negative sentiment between irregular and regular times.\")\n",
    "    else:\n",
    "        print(\"Fail to reject the null hypothesis: There is no significant difference in the proportion of negative sentiment between irregular and regular times.\")\n",
    "else:\n",
    "    print(\"There are no negative sentiment messages in the dataset.\")"
   ]
  },
  {
   "cell_type": "markdown",
   "metadata": {},
   "source": [
    "# RQ3"
   ]
  },
  {
   "cell_type": "code",
   "execution_count": 53,
   "metadata": {},
   "outputs": [
    {
     "name": "stderr",
     "output_type": "stream",
     "text": [
      "C:\\Users\\User\\AppData\\Local\\Temp\\ipykernel_16576\\3685222560.py:1: DtypeWarning: Columns (0) have mixed types. Specify dtype option on import or set low_memory=False.\n",
      "  df1=pd.read_csv(r'L:\\Thesis\\Exploratory-Analysis-of-Developer-Sentiment-on-Open-Source-Projects\\Dataset\\RQ3.csv')\n"
     ]
    }
   ],
   "source": [
    "df1=pd.read_csv(r'L:\\Thesis\\Exploratory-Analysis-of-Developer-Sentiment-on-Open-Source-Projects\\Dataset\\RQ3.csv')"
   ]
  },
  {
   "cell_type": "code",
   "execution_count": 54,
   "metadata": {},
   "outputs": [
    {
     "data": {
      "text/html": [
       "<div>\n",
       "<style scoped>\n",
       "    .dataframe tbody tr th:only-of-type {\n",
       "        vertical-align: middle;\n",
       "    }\n",
       "\n",
       "    .dataframe tbody tr th {\n",
       "        vertical-align: top;\n",
       "    }\n",
       "\n",
       "    .dataframe thead th {\n",
       "        text-align: right;\n",
       "    }\n",
       "</style>\n",
       "<table border=\"1\" class=\"dataframe\">\n",
       "  <thead>\n",
       "    <tr style=\"text-align: right;\">\n",
       "      <th></th>\n",
       "      <th>issuetype</th>\n",
       "      <th>summary</th>\n",
       "      <th>summary_sentiment</th>\n",
       "    </tr>\n",
       "  </thead>\n",
       "  <tbody>\n",
       "    <tr>\n",
       "      <th>0</th>\n",
       "      <td>Bug</td>\n",
       "      <td>1-800-790-9186 Epson Tech Support TelePhone Nu...</td>\n",
       "      <td>neutral</td>\n",
       "    </tr>\n",
       "    <tr>\n",
       "      <th>1</th>\n",
       "      <td>Bug</td>\n",
       "      <td>pogo games customer service phone number 1855 ...</td>\n",
       "      <td>neutral</td>\n",
       "    </tr>\n",
       "    <tr>\n",
       "      <th>2</th>\n",
       "      <td>Bug</td>\n",
       "      <td>KUND pogo games customer service phone number ...</td>\n",
       "      <td>neutral</td>\n",
       "    </tr>\n",
       "    <tr>\n",
       "      <th>3</th>\n",
       "      <td>Bug</td>\n",
       "      <td>phone number 1855 800 8493, Pogo games tech Su...</td>\n",
       "      <td>neutral</td>\n",
       "    </tr>\n",
       "    <tr>\n",
       "      <th>4</th>\n",
       "      <td>Bug</td>\n",
       "      <td>call, 1855 800 8493 for all type help by Pogo ...</td>\n",
       "      <td>neutral</td>\n",
       "    </tr>\n",
       "  </tbody>\n",
       "</table>\n",
       "</div>"
      ],
      "text/plain": [
       "  issuetype                                            summary  \\\n",
       "0       Bug  1-800-790-9186 Epson Tech Support TelePhone Nu...   \n",
       "1       Bug  pogo games customer service phone number 1855 ...   \n",
       "2       Bug  KUND pogo games customer service phone number ...   \n",
       "3       Bug  phone number 1855 800 8493, Pogo games tech Su...   \n",
       "4       Bug  call, 1855 800 8493 for all type help by Pogo ...   \n",
       "\n",
       "  summary_sentiment  \n",
       "0           neutral  \n",
       "1           neutral  \n",
       "2           neutral  \n",
       "3           neutral  \n",
       "4           neutral  "
      ]
     },
     "execution_count": 54,
     "metadata": {},
     "output_type": "execute_result"
    }
   ],
   "source": [
    "df1.head()"
   ]
  },
  {
   "cell_type": "code",
   "execution_count": 56,
   "metadata": {},
   "outputs": [
    {
     "name": "stdout",
     "output_type": "stream",
     "text": [
      "Proportion of negative sentiment in bug issues: 0.0\n",
      "Proportion of negative sentiment in non-bug issues: 1.0\n",
      "Z-score: -1274.3782797897961\n",
      "p-value: 0.0\n",
      "Reject the null hypothesis: There is a significant difference in the proportion of negative sentiment between bug and non-bug issues.\n"
     ]
    }
   ],
   "source": [
    "negative_sentiment_data = df1[df1['summary_sentiment'] == 'negative']\n",
    "\n",
    "# Create subsets for bug and non-bug issues\n",
    "bug_data = negative_sentiment_data[negative_sentiment_data['issuetype'] == 'bug']\n",
    "non_bug_data = negative_sentiment_data[negative_sentiment_data['issuetype'] != 'bug']\n",
    "\n",
    "# Calculate proportions\n",
    "bug_proportion = len(bug_data) / len(negative_sentiment_data)\n",
    "non_bug_proportion = len(non_bug_data) / len(negative_sentiment_data)\n",
    "\n",
    "# Perform z-test\n",
    "z_stat, p_value = proportions_ztest([len(bug_data), len(non_bug_data)], \n",
    "                                          [len(negative_sentiment_data), len(negative_sentiment_data)])\n",
    "\n",
    "# Output the results\n",
    "print(\"Proportion of negative sentiment in bug issues:\", bug_proportion)\n",
    "print(\"Proportion of negative sentiment in non-bug issues:\", non_bug_proportion)\n",
    "print(\"Z-score:\", z_stat)\n",
    "print(\"p-value:\", p_value)\n",
    "\n",
    "# Determine significance\n",
    "alpha = 0.05\n",
    "if p_value < alpha:\n",
    "    print(\"Reject the null hypothesis: There is a significant difference in the proportion of negative sentiment between bug and non-bug issues.\")\n",
    "else:\n",
    "    print(\"Fail to reject the null hypothesis: There is no significant difference in the proportion of negative sentiment between bug and non-bug issues.\")"
   ]
  },
  {
   "cell_type": "code",
   "execution_count": 63,
   "metadata": {},
   "outputs": [
    {
     "ename": "KeyError",
     "evalue": "'sentiment_score'",
     "output_type": "error",
     "traceback": [
      "\u001b[1;31m---------------------------------------------------------------------------\u001b[0m",
      "\u001b[1;31mKeyError\u001b[0m                                  Traceback (most recent call last)",
      "File \u001b[1;32md:\\Anaconda_envs\\envs\\myenv\\lib\\site-packages\\pandas\\core\\indexes\\base.py:3802\u001b[0m, in \u001b[0;36mIndex.get_loc\u001b[1;34m(self, key)\u001b[0m\n\u001b[0;32m   3801\u001b[0m \u001b[38;5;28;01mtry\u001b[39;00m:\n\u001b[1;32m-> 3802\u001b[0m     \u001b[38;5;28;01mreturn\u001b[39;00m \u001b[38;5;28;43mself\u001b[39;49m\u001b[38;5;241;43m.\u001b[39;49m\u001b[43m_engine\u001b[49m\u001b[38;5;241;43m.\u001b[39;49m\u001b[43mget_loc\u001b[49m\u001b[43m(\u001b[49m\u001b[43mcasted_key\u001b[49m\u001b[43m)\u001b[49m\n\u001b[0;32m   3803\u001b[0m \u001b[38;5;28;01mexcept\u001b[39;00m \u001b[38;5;167;01mKeyError\u001b[39;00m \u001b[38;5;28;01mas\u001b[39;00m err:\n",
      "File \u001b[1;32mindex.pyx:153\u001b[0m, in \u001b[0;36mpandas._libs.index.IndexEngine.get_loc\u001b[1;34m()\u001b[0m\n",
      "File \u001b[1;32mindex.pyx:182\u001b[0m, in \u001b[0;36mpandas._libs.index.IndexEngine.get_loc\u001b[1;34m()\u001b[0m\n",
      "File \u001b[1;32mpandas\\\\_libs\\\\hashtable_class_helper.pxi:7081\u001b[0m, in \u001b[0;36mpandas._libs.hashtable.PyObjectHashTable.get_item\u001b[1;34m()\u001b[0m\n",
      "File \u001b[1;32mpandas\\\\_libs\\\\hashtable_class_helper.pxi:7089\u001b[0m, in \u001b[0;36mpandas._libs.hashtable.PyObjectHashTable.get_item\u001b[1;34m()\u001b[0m\n",
      "\u001b[1;31mKeyError\u001b[0m: 'sentiment_score'",
      "\nThe above exception was the direct cause of the following exception:\n",
      "\u001b[1;31mKeyError\u001b[0m                                  Traceback (most recent call last)",
      "Cell \u001b[1;32mIn[63], line 6\u001b[0m\n\u001b[0;32m      3\u001b[0m     \u001b[38;5;28;01mreturn\u001b[39;00m negative_sentiment_data[\u001b[38;5;124m'\u001b[39m\u001b[38;5;124msentiment_score\u001b[39m\u001b[38;5;124m'\u001b[39m]\u001b[38;5;241m.\u001b[39mmean()  \u001b[38;5;66;03m# Assuming sentiment_score is the column representing sentiment score\u001b[39;00m\n\u001b[0;32m      5\u001b[0m \u001b[38;5;66;03m# Compute the negative sentiment score for bug and non-bug issues\u001b[39;00m\n\u001b[1;32m----> 6\u001b[0m bug_negative_score \u001b[38;5;241m=\u001b[39m \u001b[43mcompute_negative_sentiment_score\u001b[49m\u001b[43m(\u001b[49m\u001b[43mdf1\u001b[49m\u001b[43m[\u001b[49m\u001b[43mdf1\u001b[49m\u001b[43m[\u001b[49m\u001b[38;5;124;43m'\u001b[39;49m\u001b[38;5;124;43missuetype\u001b[39;49m\u001b[38;5;124;43m'\u001b[39;49m\u001b[43m]\u001b[49m\u001b[43m \u001b[49m\u001b[38;5;241;43m==\u001b[39;49m\u001b[43m \u001b[49m\u001b[38;5;124;43m'\u001b[39;49m\u001b[38;5;124;43mBug\u001b[39;49m\u001b[38;5;124;43m'\u001b[39;49m\u001b[43m]\u001b[49m\u001b[43m)\u001b[49m\n\u001b[0;32m      7\u001b[0m non_bug_negative_score \u001b[38;5;241m=\u001b[39m compute_negative_sentiment_score(df1[df1[\u001b[38;5;124m'\u001b[39m\u001b[38;5;124missuetype\u001b[39m\u001b[38;5;124m'\u001b[39m] \u001b[38;5;241m!=\u001b[39m \u001b[38;5;124m'\u001b[39m\u001b[38;5;124mBug\u001b[39m\u001b[38;5;124m'\u001b[39m])\n\u001b[0;32m      9\u001b[0m \u001b[38;5;66;03m# Plotting\u001b[39;00m\n",
      "Cell \u001b[1;32mIn[63], line 3\u001b[0m, in \u001b[0;36mcompute_negative_sentiment_score\u001b[1;34m(df)\u001b[0m\n\u001b[0;32m      1\u001b[0m \u001b[38;5;28;01mdef\u001b[39;00m \u001b[38;5;21mcompute_negative_sentiment_score\u001b[39m(df):\n\u001b[0;32m      2\u001b[0m     negative_sentiment_data \u001b[38;5;241m=\u001b[39m df[df[\u001b[38;5;124m'\u001b[39m\u001b[38;5;124msummary_sentiment\u001b[39m\u001b[38;5;124m'\u001b[39m] \u001b[38;5;241m==\u001b[39m \u001b[38;5;124m'\u001b[39m\u001b[38;5;124mnegative\u001b[39m\u001b[38;5;124m'\u001b[39m]\n\u001b[1;32m----> 3\u001b[0m     \u001b[38;5;28;01mreturn\u001b[39;00m \u001b[43mnegative_sentiment_data\u001b[49m\u001b[43m[\u001b[49m\u001b[38;5;124;43m'\u001b[39;49m\u001b[38;5;124;43msentiment_score\u001b[39;49m\u001b[38;5;124;43m'\u001b[39;49m\u001b[43m]\u001b[49m\u001b[38;5;241m.\u001b[39mmean()\n",
      "File \u001b[1;32md:\\Anaconda_envs\\envs\\myenv\\lib\\site-packages\\pandas\\core\\frame.py:4090\u001b[0m, in \u001b[0;36mDataFrame.__getitem__\u001b[1;34m(self, key)\u001b[0m\n\u001b[0;32m   4088\u001b[0m \u001b[38;5;28;01mif\u001b[39;00m \u001b[38;5;28mself\u001b[39m\u001b[38;5;241m.\u001b[39mcolumns\u001b[38;5;241m.\u001b[39mnlevels \u001b[38;5;241m>\u001b[39m \u001b[38;5;241m1\u001b[39m:\n\u001b[0;32m   4089\u001b[0m     \u001b[38;5;28;01mreturn\u001b[39;00m \u001b[38;5;28mself\u001b[39m\u001b[38;5;241m.\u001b[39m_getitem_multilevel(key)\n\u001b[1;32m-> 4090\u001b[0m indexer \u001b[38;5;241m=\u001b[39m \u001b[38;5;28;43mself\u001b[39;49m\u001b[38;5;241;43m.\u001b[39;49m\u001b[43mcolumns\u001b[49m\u001b[38;5;241;43m.\u001b[39;49m\u001b[43mget_loc\u001b[49m\u001b[43m(\u001b[49m\u001b[43mkey\u001b[49m\u001b[43m)\u001b[49m\n\u001b[0;32m   4091\u001b[0m \u001b[38;5;28;01mif\u001b[39;00m is_integer(indexer):\n\u001b[0;32m   4092\u001b[0m     indexer \u001b[38;5;241m=\u001b[39m [indexer]\n",
      "File \u001b[1;32md:\\Anaconda_envs\\envs\\myenv\\lib\\site-packages\\pandas\\core\\indexes\\base.py:3809\u001b[0m, in \u001b[0;36mIndex.get_loc\u001b[1;34m(self, key)\u001b[0m\n\u001b[0;32m   3804\u001b[0m     \u001b[38;5;28;01mif\u001b[39;00m \u001b[38;5;28misinstance\u001b[39m(casted_key, \u001b[38;5;28mslice\u001b[39m) \u001b[38;5;129;01mor\u001b[39;00m (\n\u001b[0;32m   3805\u001b[0m         \u001b[38;5;28misinstance\u001b[39m(casted_key, abc\u001b[38;5;241m.\u001b[39mIterable)\n\u001b[0;32m   3806\u001b[0m         \u001b[38;5;129;01mand\u001b[39;00m \u001b[38;5;28many\u001b[39m(\u001b[38;5;28misinstance\u001b[39m(x, \u001b[38;5;28mslice\u001b[39m) \u001b[38;5;28;01mfor\u001b[39;00m x \u001b[38;5;129;01min\u001b[39;00m casted_key)\n\u001b[0;32m   3807\u001b[0m     ):\n\u001b[0;32m   3808\u001b[0m         \u001b[38;5;28;01mraise\u001b[39;00m InvalidIndexError(key)\n\u001b[1;32m-> 3809\u001b[0m     \u001b[38;5;28;01mraise\u001b[39;00m \u001b[38;5;167;01mKeyError\u001b[39;00m(key) \u001b[38;5;28;01mfrom\u001b[39;00m \u001b[38;5;21;01merr\u001b[39;00m\n\u001b[0;32m   3810\u001b[0m \u001b[38;5;28;01mexcept\u001b[39;00m \u001b[38;5;167;01mTypeError\u001b[39;00m:\n\u001b[0;32m   3811\u001b[0m     \u001b[38;5;66;03m# If we have a listlike key, _check_indexing_error will raise\u001b[39;00m\n\u001b[0;32m   3812\u001b[0m     \u001b[38;5;66;03m#  InvalidIndexError. Otherwise we fall through and re-raise\u001b[39;00m\n\u001b[0;32m   3813\u001b[0m     \u001b[38;5;66;03m#  the TypeError.\u001b[39;00m\n\u001b[0;32m   3814\u001b[0m     \u001b[38;5;28mself\u001b[39m\u001b[38;5;241m.\u001b[39m_check_indexing_error(key)\n",
      "\u001b[1;31mKeyError\u001b[0m: 'sentiment_score'"
     ]
    }
   ],
   "source": [
    "def compute_negative_sentiment_score(df):\n",
    "    negative_sentiment_data = df[df['summary_sentiment'] == 'negative']\n",
    "    return negative_sentiment_data['sentiment_score'].mean()  # Assuming sentiment_score is the column representing sentiment score\n",
    "\n",
    "# Compute the negative sentiment score for bug and non-bug issues\n",
    "\n",
    "bug_negative_score = compute_negative_sentiment_score(df1[df1['issuetype'] == 'Bug'])\n",
    "non_bug_negative_score = compute_negative_sentiment_score(df1[df1['issuetype'] != 'Bug'])\n",
    "\n",
    "# Plotting\n",
    "plt.figure(figsize=(8, 6))\n",
    "plt.bar(['Bug', 'Non-Bug'], [bug_negative_score, non_bug_negative_score])\n",
    "plt.title('Average Sentiment Score for Negative Sentiment in Bug and Non-Bug Issues')\n",
    "plt.ylabel('Average Sentiment Score')\n",
    "plt.xlabel('Issue Type')\n",
    "plt.grid(True)\n",
    "plt.show()"
   ]
  },
  {
   "cell_type": "markdown",
   "metadata": {},
   "source": [
    "# RQ1"
   ]
  },
  {
   "cell_type": "code",
   "execution_count": 1,
   "metadata": {},
   "outputs": [],
   "source": [
    "import matplotlib.pyplot as plt\n",
    "import seaborn as sns\n",
    "import pandas as pd\n",
    "import numpy as np"
   ]
  },
  {
   "cell_type": "code",
   "execution_count": 2,
   "metadata": {},
   "outputs": [],
   "source": [
    "\n",
    "\n",
    "df = pd.read_csv(r'L:\\Thesis\\Exploratory-Analysis-of-Developer-Sentiment-on-Open-Source-Projects\\Dataset\\commits.csv')\n"
   ]
  },
  {
   "cell_type": "code",
   "execution_count": 3,
   "metadata": {},
   "outputs": [],
   "source": [
    "repositories_of_interest = ['gecko-dev', 'hadoop', 'tomcat', 'lucene-solr', 'camel']"
   ]
  },
  {
   "cell_type": "code",
   "execution_count": 4,
   "metadata": {},
   "outputs": [],
   "source": [
    "df=df[df['repo'].isin(repositories_of_interest)]"
   ]
  },
  {
   "cell_type": "code",
   "execution_count": 5,
   "metadata": {},
   "outputs": [
    {
     "data": {
      "text/plain": [
       "1016723"
      ]
     },
     "execution_count": 5,
     "metadata": {},
     "output_type": "execute_result"
    }
   ],
   "source": [
    "len(df)"
   ]
  },
  {
   "cell_type": "code",
   "execution_count": 12,
   "metadata": {},
   "outputs": [
    {
     "name": "stderr",
     "output_type": "stream",
     "text": [
      "C:\\Users\\User\\AppData\\Local\\Temp\\ipykernel_13016\\1925285737.py:18: DeprecationWarning: DataFrameGroupBy.apply operated on the grouping columns. This behavior is deprecated, and in a future version of pandas the grouping columns will be excluded from the operation. Either pass `include_groups=False` to exclude the groupings or explicitly select the grouping columns after groupby to silence this warning.\n",
      "  regularity_indices = commits_per_day.groupby('committer').apply(calculate_regularity_index).reset_index()\n"
     ]
    },
    {
     "ename": "MergeError",
     "evalue": "Passing 'suffixes' which cause duplicate columns {'category_x'} is not allowed.",
     "output_type": "error",
     "traceback": [
      "\u001b[1;31m---------------------------------------------------------------------------\u001b[0m",
      "\u001b[1;31mMergeError\u001b[0m                                Traceback (most recent call last)",
      "Cell \u001b[1;32mIn[12], line 33\u001b[0m\n\u001b[0;32m     30\u001b[0m regularity_indices\u001b[38;5;241m.\u001b[39mloc[regularity_indices[\u001b[38;5;124m'\u001b[39m\u001b[38;5;124mR\u001b[39m\u001b[38;5;124m'\u001b[39m] \u001b[38;5;241m>\u001b[39m\u001b[38;5;241m=\u001b[39m Q3, \u001b[38;5;124m'\u001b[39m\u001b[38;5;124mcategory\u001b[39m\u001b[38;5;124m'\u001b[39m] \u001b[38;5;241m=\u001b[39m \u001b[38;5;124m'\u001b[39m\u001b[38;5;124mregular\u001b[39m\u001b[38;5;124m'\u001b[39m\n\u001b[0;32m     32\u001b[0m \u001b[38;5;66;03m# Merge with the original dataframe to get sentiments\u001b[39;00m\n\u001b[1;32m---> 33\u001b[0m df \u001b[38;5;241m=\u001b[39m \u001b[43mdf\u001b[49m\u001b[38;5;241;43m.\u001b[39;49m\u001b[43mmerge\u001b[49m\u001b[43m(\u001b[49m\u001b[43mregularity_indices\u001b[49m\u001b[43m[\u001b[49m\u001b[43m[\u001b[49m\u001b[38;5;124;43m'\u001b[39;49m\u001b[38;5;124;43mcommitter\u001b[39;49m\u001b[38;5;124;43m'\u001b[39;49m\u001b[43m,\u001b[49m\u001b[43m \u001b[49m\u001b[38;5;124;43m'\u001b[39;49m\u001b[38;5;124;43mcategory\u001b[39;49m\u001b[38;5;124;43m'\u001b[39;49m\u001b[43m]\u001b[49m\u001b[43m]\u001b[49m\u001b[43m,\u001b[49m\u001b[43m \u001b[49m\u001b[43mon\u001b[49m\u001b[38;5;241;43m=\u001b[39;49m\u001b[38;5;124;43m'\u001b[39;49m\u001b[38;5;124;43mcommitter\u001b[39;49m\u001b[38;5;124;43m'\u001b[39;49m\u001b[43m,\u001b[49m\u001b[43m \u001b[49m\u001b[43mhow\u001b[49m\u001b[38;5;241;43m=\u001b[39;49m\u001b[38;5;124;43m'\u001b[39;49m\u001b[38;5;124;43mleft\u001b[39;49m\u001b[38;5;124;43m'\u001b[39;49m\u001b[43m)\u001b[49m\n\u001b[0;32m     35\u001b[0m \u001b[38;5;66;03m# Calculate the proportion of negative sentiment messages\u001b[39;00m\n\u001b[0;32m     36\u001b[0m negative_sentiment_counts \u001b[38;5;241m=\u001b[39m df[df[\u001b[38;5;124m'\u001b[39m\u001b[38;5;124mmessage_sentiment\u001b[39m\u001b[38;5;124m'\u001b[39m] \u001b[38;5;241m==\u001b[39m \u001b[38;5;124m'\u001b[39m\u001b[38;5;124mnegative\u001b[39m\u001b[38;5;124m'\u001b[39m]\u001b[38;5;241m.\u001b[39mgroupby(\u001b[38;5;124m'\u001b[39m\u001b[38;5;124mcategory\u001b[39m\u001b[38;5;124m'\u001b[39m)\u001b[38;5;241m.\u001b[39msize()\n",
      "File \u001b[1;32md:\\Anaconda_envs\\envs\\myenv\\lib\\site-packages\\pandas\\core\\frame.py:10805\u001b[0m, in \u001b[0;36mDataFrame.merge\u001b[1;34m(self, right, how, on, left_on, right_on, left_index, right_index, sort, suffixes, copy, indicator, validate)\u001b[0m\n\u001b[0;32m  10786\u001b[0m \u001b[38;5;129m@Substitution\u001b[39m(\u001b[38;5;124m\"\u001b[39m\u001b[38;5;124m\"\u001b[39m)\n\u001b[0;32m  10787\u001b[0m \u001b[38;5;129m@Appender\u001b[39m(_merge_doc, indents\u001b[38;5;241m=\u001b[39m\u001b[38;5;241m2\u001b[39m)\n\u001b[0;32m  10788\u001b[0m \u001b[38;5;28;01mdef\u001b[39;00m \u001b[38;5;21mmerge\u001b[39m(\n\u001b[1;32m   (...)\u001b[0m\n\u001b[0;32m  10801\u001b[0m     validate: MergeValidate \u001b[38;5;241m|\u001b[39m \u001b[38;5;28;01mNone\u001b[39;00m \u001b[38;5;241m=\u001b[39m \u001b[38;5;28;01mNone\u001b[39;00m,\n\u001b[0;32m  10802\u001b[0m ) \u001b[38;5;241m-\u001b[39m\u001b[38;5;241m>\u001b[39m DataFrame:\n\u001b[0;32m  10803\u001b[0m     \u001b[38;5;28;01mfrom\u001b[39;00m \u001b[38;5;21;01mpandas\u001b[39;00m\u001b[38;5;21;01m.\u001b[39;00m\u001b[38;5;21;01mcore\u001b[39;00m\u001b[38;5;21;01m.\u001b[39;00m\u001b[38;5;21;01mreshape\u001b[39;00m\u001b[38;5;21;01m.\u001b[39;00m\u001b[38;5;21;01mmerge\u001b[39;00m \u001b[38;5;28;01mimport\u001b[39;00m merge\n\u001b[1;32m> 10805\u001b[0m     \u001b[38;5;28;01mreturn\u001b[39;00m \u001b[43mmerge\u001b[49m\u001b[43m(\u001b[49m\n\u001b[0;32m  10806\u001b[0m \u001b[43m        \u001b[49m\u001b[38;5;28;43mself\u001b[39;49m\u001b[43m,\u001b[49m\n\u001b[0;32m  10807\u001b[0m \u001b[43m        \u001b[49m\u001b[43mright\u001b[49m\u001b[43m,\u001b[49m\n\u001b[0;32m  10808\u001b[0m \u001b[43m        \u001b[49m\u001b[43mhow\u001b[49m\u001b[38;5;241;43m=\u001b[39;49m\u001b[43mhow\u001b[49m\u001b[43m,\u001b[49m\n\u001b[0;32m  10809\u001b[0m \u001b[43m        \u001b[49m\u001b[43mon\u001b[49m\u001b[38;5;241;43m=\u001b[39;49m\u001b[43mon\u001b[49m\u001b[43m,\u001b[49m\n\u001b[0;32m  10810\u001b[0m \u001b[43m        \u001b[49m\u001b[43mleft_on\u001b[49m\u001b[38;5;241;43m=\u001b[39;49m\u001b[43mleft_on\u001b[49m\u001b[43m,\u001b[49m\n\u001b[0;32m  10811\u001b[0m \u001b[43m        \u001b[49m\u001b[43mright_on\u001b[49m\u001b[38;5;241;43m=\u001b[39;49m\u001b[43mright_on\u001b[49m\u001b[43m,\u001b[49m\n\u001b[0;32m  10812\u001b[0m \u001b[43m        \u001b[49m\u001b[43mleft_index\u001b[49m\u001b[38;5;241;43m=\u001b[39;49m\u001b[43mleft_index\u001b[49m\u001b[43m,\u001b[49m\n\u001b[0;32m  10813\u001b[0m \u001b[43m        \u001b[49m\u001b[43mright_index\u001b[49m\u001b[38;5;241;43m=\u001b[39;49m\u001b[43mright_index\u001b[49m\u001b[43m,\u001b[49m\n\u001b[0;32m  10814\u001b[0m \u001b[43m        \u001b[49m\u001b[43msort\u001b[49m\u001b[38;5;241;43m=\u001b[39;49m\u001b[43msort\u001b[49m\u001b[43m,\u001b[49m\n\u001b[0;32m  10815\u001b[0m \u001b[43m        \u001b[49m\u001b[43msuffixes\u001b[49m\u001b[38;5;241;43m=\u001b[39;49m\u001b[43msuffixes\u001b[49m\u001b[43m,\u001b[49m\n\u001b[0;32m  10816\u001b[0m \u001b[43m        \u001b[49m\u001b[43mcopy\u001b[49m\u001b[38;5;241;43m=\u001b[39;49m\u001b[43mcopy\u001b[49m\u001b[43m,\u001b[49m\n\u001b[0;32m  10817\u001b[0m \u001b[43m        \u001b[49m\u001b[43mindicator\u001b[49m\u001b[38;5;241;43m=\u001b[39;49m\u001b[43mindicator\u001b[49m\u001b[43m,\u001b[49m\n\u001b[0;32m  10818\u001b[0m \u001b[43m        \u001b[49m\u001b[43mvalidate\u001b[49m\u001b[38;5;241;43m=\u001b[39;49m\u001b[43mvalidate\u001b[49m\u001b[43m,\u001b[49m\n\u001b[0;32m  10819\u001b[0m \u001b[43m    \u001b[49m\u001b[43m)\u001b[49m\n",
      "File \u001b[1;32md:\\Anaconda_envs\\envs\\myenv\\lib\\site-packages\\pandas\\core\\reshape\\merge.py:184\u001b[0m, in \u001b[0;36mmerge\u001b[1;34m(left, right, how, on, left_on, right_on, left_index, right_index, sort, suffixes, copy, indicator, validate)\u001b[0m\n\u001b[0;32m    169\u001b[0m \u001b[38;5;28;01melse\u001b[39;00m:\n\u001b[0;32m    170\u001b[0m     op \u001b[38;5;241m=\u001b[39m _MergeOperation(\n\u001b[0;32m    171\u001b[0m         left_df,\n\u001b[0;32m    172\u001b[0m         right_df,\n\u001b[1;32m   (...)\u001b[0m\n\u001b[0;32m    182\u001b[0m         validate\u001b[38;5;241m=\u001b[39mvalidate,\n\u001b[0;32m    183\u001b[0m     )\n\u001b[1;32m--> 184\u001b[0m     \u001b[38;5;28;01mreturn\u001b[39;00m \u001b[43mop\u001b[49m\u001b[38;5;241;43m.\u001b[39;49m\u001b[43mget_result\u001b[49m\u001b[43m(\u001b[49m\u001b[43mcopy\u001b[49m\u001b[38;5;241;43m=\u001b[39;49m\u001b[43mcopy\u001b[49m\u001b[43m)\u001b[49m\n",
      "File \u001b[1;32md:\\Anaconda_envs\\envs\\myenv\\lib\\site-packages\\pandas\\core\\reshape\\merge.py:888\u001b[0m, in \u001b[0;36m_MergeOperation.get_result\u001b[1;34m(self, copy)\u001b[0m\n\u001b[0;32m    884\u001b[0m     \u001b[38;5;28mself\u001b[39m\u001b[38;5;241m.\u001b[39mleft, \u001b[38;5;28mself\u001b[39m\u001b[38;5;241m.\u001b[39mright \u001b[38;5;241m=\u001b[39m \u001b[38;5;28mself\u001b[39m\u001b[38;5;241m.\u001b[39m_indicator_pre_merge(\u001b[38;5;28mself\u001b[39m\u001b[38;5;241m.\u001b[39mleft, \u001b[38;5;28mself\u001b[39m\u001b[38;5;241m.\u001b[39mright)\n\u001b[0;32m    886\u001b[0m join_index, left_indexer, right_indexer \u001b[38;5;241m=\u001b[39m \u001b[38;5;28mself\u001b[39m\u001b[38;5;241m.\u001b[39m_get_join_info()\n\u001b[1;32m--> 888\u001b[0m result \u001b[38;5;241m=\u001b[39m \u001b[38;5;28;43mself\u001b[39;49m\u001b[38;5;241;43m.\u001b[39;49m\u001b[43m_reindex_and_concat\u001b[49m\u001b[43m(\u001b[49m\n\u001b[0;32m    889\u001b[0m \u001b[43m    \u001b[49m\u001b[43mjoin_index\u001b[49m\u001b[43m,\u001b[49m\u001b[43m \u001b[49m\u001b[43mleft_indexer\u001b[49m\u001b[43m,\u001b[49m\u001b[43m \u001b[49m\u001b[43mright_indexer\u001b[49m\u001b[43m,\u001b[49m\u001b[43m \u001b[49m\u001b[43mcopy\u001b[49m\u001b[38;5;241;43m=\u001b[39;49m\u001b[43mcopy\u001b[49m\n\u001b[0;32m    890\u001b[0m \u001b[43m\u001b[49m\u001b[43m)\u001b[49m\n\u001b[0;32m    891\u001b[0m result \u001b[38;5;241m=\u001b[39m result\u001b[38;5;241m.\u001b[39m__finalize__(\u001b[38;5;28mself\u001b[39m, method\u001b[38;5;241m=\u001b[39m\u001b[38;5;28mself\u001b[39m\u001b[38;5;241m.\u001b[39m_merge_type)\n\u001b[0;32m    893\u001b[0m \u001b[38;5;28;01mif\u001b[39;00m \u001b[38;5;28mself\u001b[39m\u001b[38;5;241m.\u001b[39mindicator:\n",
      "File \u001b[1;32md:\\Anaconda_envs\\envs\\myenv\\lib\\site-packages\\pandas\\core\\reshape\\merge.py:840\u001b[0m, in \u001b[0;36m_MergeOperation._reindex_and_concat\u001b[1;34m(self, join_index, left_indexer, right_indexer, copy)\u001b[0m\n\u001b[0;32m    837\u001b[0m left \u001b[38;5;241m=\u001b[39m \u001b[38;5;28mself\u001b[39m\u001b[38;5;241m.\u001b[39mleft[:]\n\u001b[0;32m    838\u001b[0m right \u001b[38;5;241m=\u001b[39m \u001b[38;5;28mself\u001b[39m\u001b[38;5;241m.\u001b[39mright[:]\n\u001b[1;32m--> 840\u001b[0m llabels, rlabels \u001b[38;5;241m=\u001b[39m \u001b[43m_items_overlap_with_suffix\u001b[49m\u001b[43m(\u001b[49m\n\u001b[0;32m    841\u001b[0m \u001b[43m    \u001b[49m\u001b[38;5;28;43mself\u001b[39;49m\u001b[38;5;241;43m.\u001b[39;49m\u001b[43mleft\u001b[49m\u001b[38;5;241;43m.\u001b[39;49m\u001b[43m_info_axis\u001b[49m\u001b[43m,\u001b[49m\u001b[43m \u001b[49m\u001b[38;5;28;43mself\u001b[39;49m\u001b[38;5;241;43m.\u001b[39;49m\u001b[43mright\u001b[49m\u001b[38;5;241;43m.\u001b[39;49m\u001b[43m_info_axis\u001b[49m\u001b[43m,\u001b[49m\u001b[43m \u001b[49m\u001b[38;5;28;43mself\u001b[39;49m\u001b[38;5;241;43m.\u001b[39;49m\u001b[43msuffixes\u001b[49m\n\u001b[0;32m    842\u001b[0m \u001b[43m\u001b[49m\u001b[43m)\u001b[49m\n\u001b[0;32m    844\u001b[0m \u001b[38;5;28;01mif\u001b[39;00m left_indexer \u001b[38;5;129;01mis\u001b[39;00m \u001b[38;5;129;01mnot\u001b[39;00m \u001b[38;5;28;01mNone\u001b[39;00m \u001b[38;5;129;01mand\u001b[39;00m \u001b[38;5;129;01mnot\u001b[39;00m is_range_indexer(left_indexer, \u001b[38;5;28mlen\u001b[39m(left)):\n\u001b[0;32m    845\u001b[0m     \u001b[38;5;66;03m# Pinning the index here (and in the right code just below) is not\u001b[39;00m\n\u001b[0;32m    846\u001b[0m     \u001b[38;5;66;03m#  necessary, but makes the `.take` more performant if we have e.g.\u001b[39;00m\n\u001b[0;32m    847\u001b[0m     \u001b[38;5;66;03m#  a MultiIndex for left.index.\u001b[39;00m\n\u001b[0;32m    848\u001b[0m     lmgr \u001b[38;5;241m=\u001b[39m left\u001b[38;5;241m.\u001b[39m_mgr\u001b[38;5;241m.\u001b[39mreindex_indexer(\n\u001b[0;32m    849\u001b[0m         join_index,\n\u001b[0;32m    850\u001b[0m         left_indexer,\n\u001b[1;32m   (...)\u001b[0m\n\u001b[0;32m    855\u001b[0m         use_na_proxy\u001b[38;5;241m=\u001b[39m\u001b[38;5;28;01mTrue\u001b[39;00m,\n\u001b[0;32m    856\u001b[0m     )\n",
      "File \u001b[1;32md:\\Anaconda_envs\\envs\\myenv\\lib\\site-packages\\pandas\\core\\reshape\\merge.py:2758\u001b[0m, in \u001b[0;36m_items_overlap_with_suffix\u001b[1;34m(left, right, suffixes)\u001b[0m\n\u001b[0;32m   2756\u001b[0m     dups\u001b[38;5;241m.\u001b[39mextend(rlabels[(rlabels\u001b[38;5;241m.\u001b[39mduplicated()) \u001b[38;5;241m&\u001b[39m (\u001b[38;5;241m~\u001b[39mright\u001b[38;5;241m.\u001b[39mduplicated())]\u001b[38;5;241m.\u001b[39mtolist())\n\u001b[0;32m   2757\u001b[0m \u001b[38;5;28;01mif\u001b[39;00m dups:\n\u001b[1;32m-> 2758\u001b[0m     \u001b[38;5;28;01mraise\u001b[39;00m MergeError(\n\u001b[0;32m   2759\u001b[0m         \u001b[38;5;124mf\u001b[39m\u001b[38;5;124m\"\u001b[39m\u001b[38;5;124mPassing \u001b[39m\u001b[38;5;124m'\u001b[39m\u001b[38;5;124msuffixes\u001b[39m\u001b[38;5;124m'\u001b[39m\u001b[38;5;124m which cause duplicate columns \u001b[39m\u001b[38;5;132;01m{\u001b[39;00m\u001b[38;5;28mset\u001b[39m(dups)\u001b[38;5;132;01m}\u001b[39;00m\u001b[38;5;124m is \u001b[39m\u001b[38;5;124m\"\u001b[39m\n\u001b[0;32m   2760\u001b[0m         \u001b[38;5;124mf\u001b[39m\u001b[38;5;124m\"\u001b[39m\u001b[38;5;124mnot allowed.\u001b[39m\u001b[38;5;124m\"\u001b[39m,\n\u001b[0;32m   2761\u001b[0m     )\n\u001b[0;32m   2763\u001b[0m \u001b[38;5;28;01mreturn\u001b[39;00m llabels, rlabels\n",
      "\u001b[1;31mMergeError\u001b[0m: Passing 'suffixes' which cause duplicate columns {'category_x'} is not allowed."
     ]
    }
   ],
   "source": [
    "\n",
    "\n",
    "# Calculate the total number of days in the project\n",
    "df['commit_time'] = pd.to_datetime(df['commit_time'])\n",
    "D = (df['commit_time'].max() - df['commit_time'].min()).days + 1\n",
    "\n",
    "# Calculate commits per day for each developer\n",
    "df['commit_date'] = df['commit_time'].dt.date\n",
    "commits_per_day = df.groupby(['committer', 'commit_date']).size().reset_index(name='commits')\n",
    "\n",
    "# Calculate the regularity index R for each developer\n",
    "def calculate_regularity_index(committer_data):\n",
    "    di = committer_data['commit_date'].nunique()\n",
    "    C = committer_data['commits'].sum()\n",
    "    avg_commits_per_day = C / di\n",
    "    commit_sd = np.sqrt((1/di) * np.sum((committer_data['commits'] - avg_commits_per_day)**2))\n",
    "    R = (di / D) * (1 / (commit_sd + 1))\n",
    "    return R, di, C\n",
    "\n",
    "regularity_indices = commits_per_day.groupby('committer').apply(calculate_regularity_index).reset_index()\n",
    "regularity_indices.columns = ['committer', 'regularity_data']\n",
    "regularity_indices[['R', 'di', 'C']] = pd.DataFrame(regularity_indices['regularity_data'].tolist(), index=regularity_indices.index)\n",
    "regularity_indices.drop(columns='regularity_data', inplace=True)\n",
    "\n",
    "# Classify committers into regular, average, and irregular\n",
    "Q1 = regularity_indices['R'].quantile(0.25)\n",
    "Q3 = regularity_indices['R'].quantile(0.75)\n",
    "IQR = Q3 - Q1\n",
    "\n",
    "regularity_indices['category'] = 'average'\n",
    "regularity_indices.loc[regularity_indices['R'] <= Q1, 'category'] = 'irregular'\n",
    "regularity_indices.loc[regularity_indices['R'] >= Q3, 'category'] = 'regular'\n",
    "\n",
    "# Merge with the original dataframe to get sentiments\n",
    "df = df.merge(regularity_indices[['committer', 'category']], on='committer', how='left')\n",
    "\n",
    "# Calculate the proportion of negative sentiment messages\n",
    "negative_sentiment_counts = df[df['message_sentiment'] == 'negative'].groupby('category').size()\n",
    "total_counts = df.groupby('category').size()\n",
    "proportion_negative = negative_sentiment_counts/ total_counts\n",
    "\n",
    "# Plotting\n",
    "\n",
    "# Distribution of Regularity Index\n",
    "plt.figure(figsize=(10, 6))\n",
    "sns.histplot(regularity_indices['R'], kde=True, bins=30)\n",
    "plt.title('Distribution of Regularity Index')\n",
    "plt.xlabel('Regularity Index (R)')\n",
    "plt.ylabel('Frequency')\n",
    "plt.show()\n",
    "\n",
    "# Boxplot of Regularity Index\n",
    "plt.figure(figsize=(10, 6))\n",
    "sns.boxplot(x=regularity_indices['R'])\n",
    "plt.title('Boxplot of Regularity Index')\n",
    "plt.xlabel('Regularity Index (R)')\n",
    "plt.show()\n",
    "\n",
    "# Bar Plot of Sentiment Proportion\n",
    "proportion_negative.plot(kind='bar', color=['red', 'green', 'blue'])\n",
    "plt.title('Proportion of negative Sentiment Messages by Committer Category')\n",
    "plt.xlabel('Committer Category')\n",
    "plt.ylabel('Proportion of negative Sentiment Messages')\n",
    "plt.show()\n",
    "\n",
    "# Pie Chart of Sentiment Distribution\n",
    "for category in df['category'].unique():\n",
    "    plt.figure(figsize=(6, 6))\n",
    "    df[df['category'] == category]['message_sentiment'].value_counts().plot(kind='pie', autopct='%1.1f%%')\n",
    "    plt.title(f'Sentiment Distribution for {category.capitalize()} Committers')\n",
    "    plt.ylabel('')\n",
    "    plt.show()\n",
    "\n"
   ]
  },
  {
   "cell_type": "code",
   "execution_count": 9,
   "metadata": {},
   "outputs": [
    {
     "name": "stdout",
     "output_type": "stream",
     "text": [
      "Proportion of negative sentiment messages for irregular committers: 0.02\n",
      "Proportion of negative sentiment messages for regular committers: 0.03\n",
      "Z-test statistic: -5.42\n",
      "p-value: 1.0000\n",
      "Fail to reject the null hypothesis: No significant evidence that irregular committers have a higher proportion of negative sentiment messages than regular committers.\n"
     ]
    }
   ],
   "source": [
    "from statsmodels.stats.proportion import proportions_ztest\n",
    "\n",
    "# Calculate the number of negative sentiments for irregular and regular committers\n",
    "negative_sentiments_irregular = df[(df['category'] == 'irregular') & (df['message_sentiment'] == 'negative')].shape[0]\n",
    "negative_sentiments_regular = df[(df['category'] == 'regular') & (df['message_sentiment'] == 'negative')].shape[0]\n",
    "\n",
    "# Calculate the total number of sentiments for irregular and regular committers\n",
    "total_sentiments_irregular = df[df['category'] == 'irregular'].shape[0]\n",
    "total_sentiments_regular = df[df['category'] == 'regular'].shape[0]\n",
    "\n",
    "# Proportions of negative sentiments\n",
    "proportion_negative_irregular = negative_sentiments_irregular / total_sentiments_irregular\n",
    "proportion_negative_regular = negative_sentiments_regular / total_sentiments_regular\n",
    "\n",
    "# Perform two-proportion z-test\n",
    "count = np.array([negative_sentiments_irregular, negative_sentiments_regular])\n",
    "nobs = np.array([total_sentiments_irregular, total_sentiments_regular])\n",
    "\n",
    "stat, p_value = proportions_ztest(count, nobs, alternative='larger')\n",
    "\n",
    "print(f\"Proportion of negative sentiment messages for irregular committers: {proportion_negative_irregular:.2f}\")\n",
    "print(f\"Proportion of negative sentiment messages for regular committers: {proportion_negative_regular:.2f}\")\n",
    "print(f\"Z-test statistic: {stat:.2f}\")\n",
    "print(f\"p-value: {p_value:.4f}\")\n",
    "\n",
    "# Conclusion\n",
    "alpha = 0.05\n",
    "if p_value < alpha:\n",
    "    print(\"Reject the null hypothesis: Irregular committers have a higher proportion of negative sentiment messages than regular committers.\")\n",
    "else:\n",
    "    print(\"Fail to reject the null hypothesis: No significant evidence that irregular committers have a higher proportion of negative sentiment messages than regular committers.\")\n"
   ]
  },
  {
   "cell_type": "code",
   "execution_count": null,
   "metadata": {},
   "outputs": [],
   "source": [
    "repo=['gecko-dev','hadoop','tomcat','lucene-solr','camel']"
   ]
  },
  {
   "cell_type": "markdown",
   "metadata": {},
   "source": [
    "# RQ4"
   ]
  },
  {
   "cell_type": "code",
   "execution_count": 13,
   "metadata": {},
   "outputs": [],
   "source": [
    "df=pd.read_csv(r'L:\\Thesis\\Exploratory-Analysis-of-Developer-Sentiment-on-Open-Source-Projects\\Dataset\\RQ4.csv')"
   ]
  },
  {
   "cell_type": "code",
   "execution_count": 14,
   "metadata": {},
   "outputs": [
    {
     "data": {
      "text/html": [
       "<div>\n",
       "<style scoped>\n",
       "    .dataframe tbody tr th:only-of-type {\n",
       "        vertical-align: middle;\n",
       "    }\n",
       "\n",
       "    .dataframe tbody tr th {\n",
       "        vertical-align: top;\n",
       "    }\n",
       "\n",
       "    .dataframe thead th {\n",
       "        text-align: right;\n",
       "    }\n",
       "</style>\n",
       "<table border=\"1\" class=\"dataframe\">\n",
       "  <thead>\n",
       "    <tr style=\"text-align: right;\">\n",
       "      <th></th>\n",
       "      <th>source</th>\n",
       "      <th>product</th>\n",
       "      <th>issue_id</th>\n",
       "      <th>comment_id</th>\n",
       "      <th>count</th>\n",
       "      <th>author_key</th>\n",
       "      <th>author_tz</th>\n",
       "      <th>update_author_key</th>\n",
       "      <th>update_author_tz</th>\n",
       "      <th>created</th>\n",
       "      <th>updated</th>\n",
       "      <th>index</th>\n",
       "      <th>text</th>\n",
       "      <th>text_sentiment</th>\n",
       "    </tr>\n",
       "  </thead>\n",
       "  <tbody>\n",
       "    <tr>\n",
       "      <th>0</th>\n",
       "      <td>apache</td>\n",
       "      <td>AAR</td>\n",
       "      <td>12963270.0</td>\n",
       "      <td>15261151.0</td>\n",
       "      <td>NaN</td>\n",
       "      <td>14e647a68666823ae46697258899ac0b0a681de6</td>\n",
       "      <td>Etc/UTC</td>\n",
       "      <td>14e647a68666823ae46697258899ac0b0a681de6</td>\n",
       "      <td>Etc/UTC</td>\n",
       "      <td>2016-04-27 23:04:37+00:00</td>\n",
       "      <td>2016-04-27 23:05:24+00:00</td>\n",
       "      <td>2</td>\n",
       "      <td>Watch The Ultimate Fighter Season 23, Episode ...</td>\n",
       "      <td>neutral</td>\n",
       "    </tr>\n",
       "    <tr>\n",
       "      <th>1</th>\n",
       "      <td>apache</td>\n",
       "      <td>AAR</td>\n",
       "      <td>12963426.0</td>\n",
       "      <td>15261824.0</td>\n",
       "      <td>NaN</td>\n",
       "      <td>dbea2a0f9161664766394eaeae89d872577bc764</td>\n",
       "      <td>Europe/Berlin</td>\n",
       "      <td>dbea2a0f9161664766394eaeae89d872577bc764</td>\n",
       "      <td>Europe/Berlin</td>\n",
       "      <td>2016-04-28 09:16:51+00:00</td>\n",
       "      <td>2016-04-28 09:16:51+00:00</td>\n",
       "      <td>3</td>\n",
       "      <td>faqegggf</td>\n",
       "      <td>neutral</td>\n",
       "    </tr>\n",
       "    <tr>\n",
       "      <th>2</th>\n",
       "      <td>apache</td>\n",
       "      <td>AAR</td>\n",
       "      <td>12963426.0</td>\n",
       "      <td>15262448.0</td>\n",
       "      <td>NaN</td>\n",
       "      <td>dbea2a0f9161664766394eaeae89d872577bc764</td>\n",
       "      <td>Europe/Berlin</td>\n",
       "      <td>dbea2a0f9161664766394eaeae89d872577bc764</td>\n",
       "      <td>Europe/Berlin</td>\n",
       "      <td>2016-04-28 16:30:42+00:00</td>\n",
       "      <td>2016-04-28 16:30:42+00:00</td>\n",
       "      <td>4</td>\n",
       "      <td>geadggdgdg</td>\n",
       "      <td>neutral</td>\n",
       "    </tr>\n",
       "    <tr>\n",
       "      <th>3</th>\n",
       "      <td>apache</td>\n",
       "      <td>AAR</td>\n",
       "      <td>12963426.0</td>\n",
       "      <td>15262452.0</td>\n",
       "      <td>NaN</td>\n",
       "      <td>dbea2a0f9161664766394eaeae89d872577bc764</td>\n",
       "      <td>Europe/Berlin</td>\n",
       "      <td>dbea2a0f9161664766394eaeae89d872577bc764</td>\n",
       "      <td>Europe/Berlin</td>\n",
       "      <td>2016-04-28 16:31:30+00:00</td>\n",
       "      <td>2016-04-28 16:31:30+00:00</td>\n",
       "      <td>5</td>\n",
       "      <td>gaeggg</td>\n",
       "      <td>negative</td>\n",
       "    </tr>\n",
       "    <tr>\n",
       "      <th>4</th>\n",
       "      <td>apache</td>\n",
       "      <td>AAR</td>\n",
       "      <td>12963426.0</td>\n",
       "      <td>15262453.0</td>\n",
       "      <td>NaN</td>\n",
       "      <td>dbea2a0f9161664766394eaeae89d872577bc764</td>\n",
       "      <td>Europe/Berlin</td>\n",
       "      <td>dbea2a0f9161664766394eaeae89d872577bc764</td>\n",
       "      <td>Europe/Berlin</td>\n",
       "      <td>2016-04-28 16:31:50+00:00</td>\n",
       "      <td>2016-04-28 16:31:50+00:00</td>\n",
       "      <td>6</td>\n",
       "      <td>fegf</td>\n",
       "      <td>neutral</td>\n",
       "    </tr>\n",
       "  </tbody>\n",
       "</table>\n",
       "</div>"
      ],
      "text/plain": [
       "   source product    issue_id  comment_id  count  \\\n",
       "0  apache     AAR  12963270.0  15261151.0    NaN   \n",
       "1  apache     AAR  12963426.0  15261824.0    NaN   \n",
       "2  apache     AAR  12963426.0  15262448.0    NaN   \n",
       "3  apache     AAR  12963426.0  15262452.0    NaN   \n",
       "4  apache     AAR  12963426.0  15262453.0    NaN   \n",
       "\n",
       "                                 author_key      author_tz  \\\n",
       "0  14e647a68666823ae46697258899ac0b0a681de6        Etc/UTC   \n",
       "1  dbea2a0f9161664766394eaeae89d872577bc764  Europe/Berlin   \n",
       "2  dbea2a0f9161664766394eaeae89d872577bc764  Europe/Berlin   \n",
       "3  dbea2a0f9161664766394eaeae89d872577bc764  Europe/Berlin   \n",
       "4  dbea2a0f9161664766394eaeae89d872577bc764  Europe/Berlin   \n",
       "\n",
       "                          update_author_key update_author_tz  \\\n",
       "0  14e647a68666823ae46697258899ac0b0a681de6          Etc/UTC   \n",
       "1  dbea2a0f9161664766394eaeae89d872577bc764    Europe/Berlin   \n",
       "2  dbea2a0f9161664766394eaeae89d872577bc764    Europe/Berlin   \n",
       "3  dbea2a0f9161664766394eaeae89d872577bc764    Europe/Berlin   \n",
       "4  dbea2a0f9161664766394eaeae89d872577bc764    Europe/Berlin   \n",
       "\n",
       "                     created                    updated  index  \\\n",
       "0  2016-04-27 23:04:37+00:00  2016-04-27 23:05:24+00:00      2   \n",
       "1  2016-04-28 09:16:51+00:00  2016-04-28 09:16:51+00:00      3   \n",
       "2  2016-04-28 16:30:42+00:00  2016-04-28 16:30:42+00:00      4   \n",
       "3  2016-04-28 16:31:30+00:00  2016-04-28 16:31:30+00:00      5   \n",
       "4  2016-04-28 16:31:50+00:00  2016-04-28 16:31:50+00:00      6   \n",
       "\n",
       "                                                text text_sentiment  \n",
       "0  Watch The Ultimate Fighter Season 23, Episode ...        neutral  \n",
       "1                                           faqegggf        neutral  \n",
       "2                                         geadggdgdg        neutral  \n",
       "3                                             gaeggg       negative  \n",
       "4                                               fegf        neutral  "
      ]
     },
     "execution_count": 14,
     "metadata": {},
     "output_type": "execute_result"
    }
   ],
   "source": [
    "df.head()"
   ]
  },
  {
   "cell_type": "code",
   "execution_count": 37,
   "metadata": {},
   "outputs": [
    {
     "name": "stderr",
     "output_type": "stream",
     "text": [
      "C:\\Users\\User\\AppData\\Local\\Temp\\ipykernel_13016\\3740768291.py:1: DtypeWarning: Columns (3,6,8,9,10,12,14,18,19,20,22,24) have mixed types. Specify dtype option on import or set low_memory=False.\n",
      "  df1=pd.read_csv(r'L:\\Thesis\\Exploratory-Analysis-of-Developer-Sentiment-on-Open-Source-Projects\\Dataset\\issues.csv')\n"
     ]
    }
   ],
   "source": [
    "df1=pd.read_csv(r'L:\\Thesis\\Exploratory-Analysis-of-Developer-Sentiment-on-Open-Source-Projects\\Dataset\\issues.csv')"
   ]
  },
  {
   "cell_type": "code",
   "execution_count": 34,
   "metadata": {},
   "outputs": [],
   "source": [
    "df1=df1[['severity','summary_sentiment']]"
   ]
  },
  {
   "cell_type": "code",
   "execution_count": 35,
   "metadata": {},
   "outputs": [
    {
     "data": {
      "text/plain": [
       "array(['normal', 'enhancement', 'major', 'critical', 'minor', 'trivial',\n",
       "       'blocker'], dtype=object)"
      ]
     },
     "execution_count": 35,
     "metadata": {},
     "output_type": "execute_result"
    }
   ],
   "source": [
    "df1['severity'].unique()"
   ]
  },
  {
   "cell_type": "code",
   "execution_count": 38,
   "metadata": {},
   "outputs": [
    {
     "ename": "KeyError",
     "evalue": "'severity'",
     "output_type": "error",
     "traceback": [
      "\u001b[1;31m---------------------------------------------------------------------------\u001b[0m",
      "\u001b[1;31mKeyError\u001b[0m                                  Traceback (most recent call last)",
      "File \u001b[1;32md:\\Anaconda_envs\\envs\\myenv\\lib\\site-packages\\pandas\\core\\indexes\\base.py:3802\u001b[0m, in \u001b[0;36mIndex.get_loc\u001b[1;34m(self, key)\u001b[0m\n\u001b[0;32m   3801\u001b[0m \u001b[38;5;28;01mtry\u001b[39;00m:\n\u001b[1;32m-> 3802\u001b[0m     \u001b[38;5;28;01mreturn\u001b[39;00m \u001b[38;5;28;43mself\u001b[39;49m\u001b[38;5;241;43m.\u001b[39;49m\u001b[43m_engine\u001b[49m\u001b[38;5;241;43m.\u001b[39;49m\u001b[43mget_loc\u001b[49m\u001b[43m(\u001b[49m\u001b[43mcasted_key\u001b[49m\u001b[43m)\u001b[49m\n\u001b[0;32m   3803\u001b[0m \u001b[38;5;28;01mexcept\u001b[39;00m \u001b[38;5;167;01mKeyError\u001b[39;00m \u001b[38;5;28;01mas\u001b[39;00m err:\n",
      "File \u001b[1;32mindex.pyx:153\u001b[0m, in \u001b[0;36mpandas._libs.index.IndexEngine.get_loc\u001b[1;34m()\u001b[0m\n",
      "File \u001b[1;32mindex.pyx:182\u001b[0m, in \u001b[0;36mpandas._libs.index.IndexEngine.get_loc\u001b[1;34m()\u001b[0m\n",
      "File \u001b[1;32mpandas\\\\_libs\\\\hashtable_class_helper.pxi:7081\u001b[0m, in \u001b[0;36mpandas._libs.hashtable.PyObjectHashTable.get_item\u001b[1;34m()\u001b[0m\n",
      "File \u001b[1;32mpandas\\\\_libs\\\\hashtable_class_helper.pxi:7089\u001b[0m, in \u001b[0;36mpandas._libs.hashtable.PyObjectHashTable.get_item\u001b[1;34m()\u001b[0m\n",
      "\u001b[1;31mKeyError\u001b[0m: 'severity'",
      "\nThe above exception was the direct cause of the following exception:\n",
      "\u001b[1;31mKeyError\u001b[0m                                  Traceback (most recent call last)",
      "Cell \u001b[1;32mIn[38], line 11\u001b[0m\n\u001b[0;32m      3\u001b[0m \u001b[38;5;28;01mfrom\u001b[39;00m \u001b[38;5;21;01mstatsmodels\u001b[39;00m\u001b[38;5;21;01m.\u001b[39;00m\u001b[38;5;21;01mstats\u001b[39;00m\u001b[38;5;21;01m.\u001b[39;00m\u001b[38;5;21;01mproportion\u001b[39;00m \u001b[38;5;28;01mimport\u001b[39;00m proportions_ztest\n\u001b[0;32m      5\u001b[0m \u001b[38;5;66;03m# Load the dataset\u001b[39;00m\n\u001b[0;32m      6\u001b[0m \n\u001b[0;32m      7\u001b[0m \n\u001b[0;32m      8\u001b[0m \n\u001b[0;32m      9\u001b[0m \n\u001b[0;32m     10\u001b[0m \u001b[38;5;66;03m# Calculate the counts needed for the Z-test\u001b[39;00m\n\u001b[1;32m---> 11\u001b[0m major_negative_count \u001b[38;5;241m=\u001b[39m df1[(\u001b[43mdf\u001b[49m\u001b[43m[\u001b[49m\u001b[38;5;124;43m'\u001b[39;49m\u001b[38;5;124;43mseverity\u001b[39;49m\u001b[38;5;124;43m'\u001b[39;49m\u001b[43m]\u001b[49m \u001b[38;5;241m==\u001b[39m \u001b[38;5;124m'\u001b[39m\u001b[38;5;124mmajor\u001b[39m\u001b[38;5;124m'\u001b[39m) \u001b[38;5;241m&\u001b[39m (df1[\u001b[38;5;124m'\u001b[39m\u001b[38;5;124msummary_sentiment\u001b[39m\u001b[38;5;124m'\u001b[39m] \u001b[38;5;241m==\u001b[39m \u001b[38;5;124m'\u001b[39m\u001b[38;5;124mnegative\u001b[39m\u001b[38;5;124m'\u001b[39m)]\u001b[38;5;241m.\u001b[39mshape[\u001b[38;5;241m0\u001b[39m]\n\u001b[0;32m     12\u001b[0m major_total_count \u001b[38;5;241m=\u001b[39m df1[df1[\u001b[38;5;124m'\u001b[39m\u001b[38;5;124mseverity\u001b[39m\u001b[38;5;124m'\u001b[39m] \u001b[38;5;241m==\u001b[39m \u001b[38;5;124m'\u001b[39m\u001b[38;5;124mmajor\u001b[39m\u001b[38;5;124m'\u001b[39m]\u001b[38;5;241m.\u001b[39mshape[\u001b[38;5;241m0\u001b[39m]\n\u001b[0;32m     14\u001b[0m other_negative_count \u001b[38;5;241m=\u001b[39m df1[(df1[\u001b[38;5;124m'\u001b[39m\u001b[38;5;124mseverity\u001b[39m\u001b[38;5;124m'\u001b[39m] \u001b[38;5;241m!=\u001b[39m \u001b[38;5;124m'\u001b[39m\u001b[38;5;124mmajor\u001b[39m\u001b[38;5;124m'\u001b[39m) \u001b[38;5;241m&\u001b[39m (df1[\u001b[38;5;124m'\u001b[39m\u001b[38;5;124msummary_sentiment\u001b[39m\u001b[38;5;124m'\u001b[39m] \u001b[38;5;241m==\u001b[39m \u001b[38;5;124m'\u001b[39m\u001b[38;5;124mnegative\u001b[39m\u001b[38;5;124m'\u001b[39m)]\u001b[38;5;241m.\u001b[39mshape[\u001b[38;5;241m0\u001b[39m]\n",
      "File \u001b[1;32md:\\Anaconda_envs\\envs\\myenv\\lib\\site-packages\\pandas\\core\\frame.py:4090\u001b[0m, in \u001b[0;36mDataFrame.__getitem__\u001b[1;34m(self, key)\u001b[0m\n\u001b[0;32m   4088\u001b[0m \u001b[38;5;28;01mif\u001b[39;00m \u001b[38;5;28mself\u001b[39m\u001b[38;5;241m.\u001b[39mcolumns\u001b[38;5;241m.\u001b[39mnlevels \u001b[38;5;241m>\u001b[39m \u001b[38;5;241m1\u001b[39m:\n\u001b[0;32m   4089\u001b[0m     \u001b[38;5;28;01mreturn\u001b[39;00m \u001b[38;5;28mself\u001b[39m\u001b[38;5;241m.\u001b[39m_getitem_multilevel(key)\n\u001b[1;32m-> 4090\u001b[0m indexer \u001b[38;5;241m=\u001b[39m \u001b[38;5;28;43mself\u001b[39;49m\u001b[38;5;241;43m.\u001b[39;49m\u001b[43mcolumns\u001b[49m\u001b[38;5;241;43m.\u001b[39;49m\u001b[43mget_loc\u001b[49m\u001b[43m(\u001b[49m\u001b[43mkey\u001b[49m\u001b[43m)\u001b[49m\n\u001b[0;32m   4091\u001b[0m \u001b[38;5;28;01mif\u001b[39;00m is_integer(indexer):\n\u001b[0;32m   4092\u001b[0m     indexer \u001b[38;5;241m=\u001b[39m [indexer]\n",
      "File \u001b[1;32md:\\Anaconda_envs\\envs\\myenv\\lib\\site-packages\\pandas\\core\\indexes\\base.py:3809\u001b[0m, in \u001b[0;36mIndex.get_loc\u001b[1;34m(self, key)\u001b[0m\n\u001b[0;32m   3804\u001b[0m     \u001b[38;5;28;01mif\u001b[39;00m \u001b[38;5;28misinstance\u001b[39m(casted_key, \u001b[38;5;28mslice\u001b[39m) \u001b[38;5;129;01mor\u001b[39;00m (\n\u001b[0;32m   3805\u001b[0m         \u001b[38;5;28misinstance\u001b[39m(casted_key, abc\u001b[38;5;241m.\u001b[39mIterable)\n\u001b[0;32m   3806\u001b[0m         \u001b[38;5;129;01mand\u001b[39;00m \u001b[38;5;28many\u001b[39m(\u001b[38;5;28misinstance\u001b[39m(x, \u001b[38;5;28mslice\u001b[39m) \u001b[38;5;28;01mfor\u001b[39;00m x \u001b[38;5;129;01min\u001b[39;00m casted_key)\n\u001b[0;32m   3807\u001b[0m     ):\n\u001b[0;32m   3808\u001b[0m         \u001b[38;5;28;01mraise\u001b[39;00m InvalidIndexError(key)\n\u001b[1;32m-> 3809\u001b[0m     \u001b[38;5;28;01mraise\u001b[39;00m \u001b[38;5;167;01mKeyError\u001b[39;00m(key) \u001b[38;5;28;01mfrom\u001b[39;00m \u001b[38;5;21;01merr\u001b[39;00m\n\u001b[0;32m   3810\u001b[0m \u001b[38;5;28;01mexcept\u001b[39;00m \u001b[38;5;167;01mTypeError\u001b[39;00m:\n\u001b[0;32m   3811\u001b[0m     \u001b[38;5;66;03m# If we have a listlike key, _check_indexing_error will raise\u001b[39;00m\n\u001b[0;32m   3812\u001b[0m     \u001b[38;5;66;03m#  InvalidIndexError. Otherwise we fall through and re-raise\u001b[39;00m\n\u001b[0;32m   3813\u001b[0m     \u001b[38;5;66;03m#  the TypeError.\u001b[39;00m\n\u001b[0;32m   3814\u001b[0m     \u001b[38;5;28mself\u001b[39m\u001b[38;5;241m.\u001b[39m_check_indexing_error(key)\n",
      "\u001b[1;31mKeyError\u001b[0m: 'severity'"
     ]
    }
   ],
   "source": [
    "import pandas as pd\n",
    "import numpy as np\n",
    "from statsmodels.stats.proportion import proportions_ztest\n",
    "\n",
    "# Load the dataset\n",
    "\n",
    "\n",
    "\n",
    "\n",
    "# Calculate the counts needed for the Z-test\n",
    "major_negative_count = df1[(df['severity'] == 'major') & (df1['summary_sentiment'] == 'negative')].shape[0]\n",
    "major_total_count = df1[df1['severity'] == 'major'].shape[0]\n",
    "\n",
    "other_negative_count = df1[(df1['severity'] != 'major') & (df1['summary_sentiment'] == 'negative')].shape[0]\n",
    "other_total_count = df1[df1['severity'] != 'major'].shape[0]\n",
    "\n",
    "# Perform the Z-test for proportions\n",
    "count = np.array([major_negative_count, other_negative_count])\n",
    "nobs = np.array([major_total_count, other_total_count])\n",
    "\n",
    "stat, p_value = proportions_ztest(count, nobs)\n",
    "\n",
    "print(f\"Z-test statistic: {stat}\")\n",
    "print(f\"P-value: {p_value}\")\n",
    "\n",
    "if p_value < 0.05:\n",
    "    print(\"There is a significant difference in the proportion of negative sentiment for 'major' severity compared to other severities.\")\n",
    "else:\n",
    "    print(\"There is no significant difference in the proportion of negative sentiment for 'major' severity compared to other severities.\")\n"
   ]
  }
 ],
 "metadata": {
  "kernelspec": {
   "display_name": "myenv",
   "language": "python",
   "name": "python3"
  },
  "language_info": {
   "codemirror_mode": {
    "name": "ipython",
    "version": 3
   },
   "file_extension": ".py",
   "mimetype": "text/x-python",
   "name": "python",
   "nbconvert_exporter": "python",
   "pygments_lexer": "ipython3",
   "version": "3.10.13"
  }
 },
 "nbformat": 4,
 "nbformat_minor": 2
}
