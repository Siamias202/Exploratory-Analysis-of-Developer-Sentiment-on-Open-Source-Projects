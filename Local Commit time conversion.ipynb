{
 "cells": [
  {
   "cell_type": "code",
   "execution_count": 1,
   "metadata": {},
   "outputs": [],
   "source": [
    "import pandas as pd\n",
    "from datetime import timedelta"
   ]
  },
  {
   "cell_type": "code",
   "execution_count": 2,
   "metadata": {},
   "outputs": [],
   "source": [
    "df=pd.read_parquet(r'H:\\Data osf\\Dataosf\\commits.parquet')"
   ]
  },
  {
   "cell_type": "code",
   "execution_count": 3,
   "metadata": {},
   "outputs": [
    {
     "data": {
      "text/plain": [
       "Index(['source', 'repo', 'hash', 'parents', 'author', 'author_time',\n",
       "       'author_tz', 'committer', 'commit_time', 'commit_tz', 'message',\n",
       "       'added', 'removed', 'from_svn', 'accurate_tz', 'issue_id'],\n",
       "      dtype='object')"
      ]
     },
     "execution_count": 3,
     "metadata": {},
     "output_type": "execute_result"
    }
   ],
   "source": [
    "df.columns"
   ]
  },
  {
   "cell_type": "code",
   "execution_count": 4,
   "metadata": {},
   "outputs": [
    {
     "data": {
      "text/plain": [
       "3439001"
      ]
     },
     "execution_count": 4,
     "metadata": {},
     "output_type": "execute_result"
    }
   ],
   "source": [
    "len(df)"
   ]
  },
  {
   "cell_type": "code",
   "execution_count": 5,
   "metadata": {},
   "outputs": [
    {
     "data": {
      "text/plain": [
       "datetime64[ns, UTC]"
      ]
     },
     "execution_count": 5,
     "metadata": {},
     "output_type": "execute_result"
    }
   ],
   "source": [
    "df['commit_time'].dtype"
   ]
  },
  {
   "cell_type": "code",
   "execution_count": 6,
   "metadata": {},
   "outputs": [
    {
     "data": {
      "text/plain": [
       "dtype('O')"
      ]
     },
     "execution_count": 6,
     "metadata": {},
     "output_type": "execute_result"
    }
   ],
   "source": [
    "df['commit_tz'].dtype"
   ]
  },
  {
   "cell_type": "code",
   "execution_count": 7,
   "metadata": {},
   "outputs": [
    {
     "data": {
      "text/plain": [
       "0   2013-01-15 23:58:38+00:00\n",
       "1   2013-01-22 18:08:30+00:00\n",
       "2   2012-05-17 17:24:30+00:00\n",
       "3   2012-05-16 14:51:58+00:00\n",
       "4   2012-05-16 17:42:07+00:00\n",
       "Name: commit_time, dtype: datetime64[ns, UTC]"
      ]
     },
     "execution_count": 7,
     "metadata": {},
     "output_type": "execute_result"
    }
   ],
   "source": [
    "df['commit_time'].head()"
   ]
  },
  {
   "cell_type": "code",
   "execution_count": 8,
   "metadata": {},
   "outputs": [],
   "source": [
    "commit_times = pd.to_datetime(df[\"commit_time\"], utc=True)\n",
    "commit_tz_values = df[\"commit_tz\"]"
   ]
  },
  {
   "cell_type": "code",
   "execution_count": 9,
   "metadata": {},
   "outputs": [],
   "source": [
    "df[\"local_commit_time\"] = commit_times + pd.to_timedelta(df[\"commit_tz\"].apply(lambda x: timedelta(hours=float(x)/100)), unit='h')\n",
    "\n",
    "\n",
    "df[\"part_of_day_commit\"] = pd.cut(df[\"local_commit_time\"].dt.hour, bins=[0, 6, 12, 18, 23, 24], labels=[\"Night\", \"Morning\", \"Afternoon\", \"Evening\", \"Night\"], right=False,ordered=False)"
   ]
  },
  {
   "cell_type": "code",
   "execution_count": 10,
   "metadata": {},
   "outputs": [
    {
     "data": {
      "text/plain": [
       "Index(['source', 'repo', 'hash', 'parents', 'author', 'author_time',\n",
       "       'author_tz', 'committer', 'commit_time', 'commit_tz', 'message',\n",
       "       'added', 'removed', 'from_svn', 'accurate_tz', 'issue_id',\n",
       "       'local_commit_time', 'part_of_day_commit'],\n",
       "      dtype='object')"
      ]
     },
     "execution_count": 10,
     "metadata": {},
     "output_type": "execute_result"
    }
   ],
   "source": [
    "df.columns"
   ]
  },
  {
   "cell_type": "code",
   "execution_count": 11,
   "metadata": {},
   "outputs": [
    {
     "data": {
      "text/html": [
       "<div>\n",
       "<style scoped>\n",
       "    .dataframe tbody tr th:only-of-type {\n",
       "        vertical-align: middle;\n",
       "    }\n",
       "\n",
       "    .dataframe tbody tr th {\n",
       "        vertical-align: top;\n",
       "    }\n",
       "\n",
       "    .dataframe thead th {\n",
       "        text-align: right;\n",
       "    }\n",
       "</style>\n",
       "<table border=\"1\" class=\"dataframe\">\n",
       "  <thead>\n",
       "    <tr style=\"text-align: right;\">\n",
       "      <th></th>\n",
       "      <th>commit_time</th>\n",
       "      <th>commit_tz</th>\n",
       "      <th>local_commit_time</th>\n",
       "      <th>part_of_day_commit</th>\n",
       "    </tr>\n",
       "  </thead>\n",
       "  <tbody>\n",
       "    <tr>\n",
       "      <th>0</th>\n",
       "      <td>2013-01-15 23:58:38+00:00</td>\n",
       "      <td>+0000</td>\n",
       "      <td>2013-01-15 23:58:38+00:00</td>\n",
       "      <td>Night</td>\n",
       "    </tr>\n",
       "    <tr>\n",
       "      <th>1</th>\n",
       "      <td>2013-01-22 18:08:30+00:00</td>\n",
       "      <td>+0000</td>\n",
       "      <td>2013-01-22 18:08:30+00:00</td>\n",
       "      <td>Evening</td>\n",
       "    </tr>\n",
       "    <tr>\n",
       "      <th>2</th>\n",
       "      <td>2012-05-17 17:24:30+00:00</td>\n",
       "      <td>+0000</td>\n",
       "      <td>2012-05-17 17:24:30+00:00</td>\n",
       "      <td>Afternoon</td>\n",
       "    </tr>\n",
       "    <tr>\n",
       "      <th>3</th>\n",
       "      <td>2012-05-16 14:51:58+00:00</td>\n",
       "      <td>+0000</td>\n",
       "      <td>2012-05-16 14:51:58+00:00</td>\n",
       "      <td>Afternoon</td>\n",
       "    </tr>\n",
       "    <tr>\n",
       "      <th>4</th>\n",
       "      <td>2012-05-16 17:42:07+00:00</td>\n",
       "      <td>+0000</td>\n",
       "      <td>2012-05-16 17:42:07+00:00</td>\n",
       "      <td>Afternoon</td>\n",
       "    </tr>\n",
       "    <tr>\n",
       "      <th>5</th>\n",
       "      <td>2012-04-23 17:25:25+00:00</td>\n",
       "      <td>+0000</td>\n",
       "      <td>2012-04-23 17:25:25+00:00</td>\n",
       "      <td>Afternoon</td>\n",
       "    </tr>\n",
       "    <tr>\n",
       "      <th>6</th>\n",
       "      <td>2012-05-16 15:20:55+00:00</td>\n",
       "      <td>+0000</td>\n",
       "      <td>2012-05-16 15:20:55+00:00</td>\n",
       "      <td>Afternoon</td>\n",
       "    </tr>\n",
       "    <tr>\n",
       "      <th>7</th>\n",
       "      <td>2018-09-11 18:28:50+00:00</td>\n",
       "      <td>-0400</td>\n",
       "      <td>2018-09-11 14:28:50+00:00</td>\n",
       "      <td>Afternoon</td>\n",
       "    </tr>\n",
       "    <tr>\n",
       "      <th>8</th>\n",
       "      <td>2017-10-30 16:15:46+00:00</td>\n",
       "      <td>-0400</td>\n",
       "      <td>2017-10-30 12:15:46+00:00</td>\n",
       "      <td>Afternoon</td>\n",
       "    </tr>\n",
       "    <tr>\n",
       "      <th>9</th>\n",
       "      <td>2019-01-02 23:45:11+00:00</td>\n",
       "      <td>-0500</td>\n",
       "      <td>2019-01-02 18:45:11+00:00</td>\n",
       "      <td>Evening</td>\n",
       "    </tr>\n",
       "    <tr>\n",
       "      <th>10</th>\n",
       "      <td>2018-10-31 15:36:47+00:00</td>\n",
       "      <td>-0400</td>\n",
       "      <td>2018-10-31 11:36:47+00:00</td>\n",
       "      <td>Morning</td>\n",
       "    </tr>\n",
       "    <tr>\n",
       "      <th>11</th>\n",
       "      <td>2019-03-19 14:51:46+00:00</td>\n",
       "      <td>-0400</td>\n",
       "      <td>2019-03-19 10:51:46+00:00</td>\n",
       "      <td>Morning</td>\n",
       "    </tr>\n",
       "    <tr>\n",
       "      <th>12</th>\n",
       "      <td>2019-03-19 20:23:09+00:00</td>\n",
       "      <td>-0400</td>\n",
       "      <td>2019-03-19 16:23:09+00:00</td>\n",
       "      <td>Afternoon</td>\n",
       "    </tr>\n",
       "    <tr>\n",
       "      <th>13</th>\n",
       "      <td>2018-10-31 16:50:51+00:00</td>\n",
       "      <td>-0400</td>\n",
       "      <td>2018-10-31 12:50:51+00:00</td>\n",
       "      <td>Afternoon</td>\n",
       "    </tr>\n",
       "    <tr>\n",
       "      <th>14</th>\n",
       "      <td>2017-11-03 21:28:40+00:00</td>\n",
       "      <td>-0400</td>\n",
       "      <td>2017-11-03 17:28:40+00:00</td>\n",
       "      <td>Afternoon</td>\n",
       "    </tr>\n",
       "  </tbody>\n",
       "</table>\n",
       "</div>"
      ],
      "text/plain": [
       "                 commit_time commit_tz         local_commit_time  \\\n",
       "0  2013-01-15 23:58:38+00:00     +0000 2013-01-15 23:58:38+00:00   \n",
       "1  2013-01-22 18:08:30+00:00     +0000 2013-01-22 18:08:30+00:00   \n",
       "2  2012-05-17 17:24:30+00:00     +0000 2012-05-17 17:24:30+00:00   \n",
       "3  2012-05-16 14:51:58+00:00     +0000 2012-05-16 14:51:58+00:00   \n",
       "4  2012-05-16 17:42:07+00:00     +0000 2012-05-16 17:42:07+00:00   \n",
       "5  2012-04-23 17:25:25+00:00     +0000 2012-04-23 17:25:25+00:00   \n",
       "6  2012-05-16 15:20:55+00:00     +0000 2012-05-16 15:20:55+00:00   \n",
       "7  2018-09-11 18:28:50+00:00     -0400 2018-09-11 14:28:50+00:00   \n",
       "8  2017-10-30 16:15:46+00:00     -0400 2017-10-30 12:15:46+00:00   \n",
       "9  2019-01-02 23:45:11+00:00     -0500 2019-01-02 18:45:11+00:00   \n",
       "10 2018-10-31 15:36:47+00:00     -0400 2018-10-31 11:36:47+00:00   \n",
       "11 2019-03-19 14:51:46+00:00     -0400 2019-03-19 10:51:46+00:00   \n",
       "12 2019-03-19 20:23:09+00:00     -0400 2019-03-19 16:23:09+00:00   \n",
       "13 2018-10-31 16:50:51+00:00     -0400 2018-10-31 12:50:51+00:00   \n",
       "14 2017-11-03 21:28:40+00:00     -0400 2017-11-03 17:28:40+00:00   \n",
       "\n",
       "   part_of_day_commit  \n",
       "0               Night  \n",
       "1             Evening  \n",
       "2           Afternoon  \n",
       "3           Afternoon  \n",
       "4           Afternoon  \n",
       "5           Afternoon  \n",
       "6           Afternoon  \n",
       "7           Afternoon  \n",
       "8           Afternoon  \n",
       "9             Evening  \n",
       "10            Morning  \n",
       "11            Morning  \n",
       "12          Afternoon  \n",
       "13          Afternoon  \n",
       "14          Afternoon  "
      ]
     },
     "execution_count": 11,
     "metadata": {},
     "output_type": "execute_result"
    }
   ],
   "source": [
    "df[['commit_time','commit_tz','local_commit_time','part_of_day_commit']].head(15)"
   ]
  }
 ],
 "metadata": {
  "kernelspec": {
   "display_name": "myenv",
   "language": "python",
   "name": "python3"
  },
  "language_info": {
   "codemirror_mode": {
    "name": "ipython",
    "version": 3
   },
   "file_extension": ".py",
   "mimetype": "text/x-python",
   "name": "python",
   "nbconvert_exporter": "python",
   "pygments_lexer": "ipython3",
   "version": "3.10.13"
  }
 },
 "nbformat": 4,
 "nbformat_minor": 2
}
