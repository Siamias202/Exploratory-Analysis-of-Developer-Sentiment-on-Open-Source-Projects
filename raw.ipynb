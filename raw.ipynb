{
 "cells": [
  {
   "cell_type": "code",
   "execution_count": 44,
   "metadata": {},
   "outputs": [],
   "source": [
    "import pandas as pd\n",
    "import numpy as np"
   ]
  },
  {
   "cell_type": "markdown",
   "metadata": {},
   "source": [
    "Inner merge(commits,issue,on=\"issue_id\",how=\"inner\") korar por new_data.csv file asche"
   ]
  },
  {
   "cell_type": "code",
   "execution_count": 20,
   "metadata": {},
   "outputs": [
    {
     "name": "stderr",
     "output_type": "stream",
     "text": [
      "C:\\Users\\User\\AppData\\Local\\Temp\\ipykernel_17848\\790857003.py:1: DtypeWarning: Columns (24,27,29,30,31,33,35,39,40,41,43,45) have mixed types. Specify dtype option on import or set low_memory=False.\n",
      "  df=pd.read_csv(r'L:\\Thesis\\Exploratory-Analysis-of-Developer-Sentiment-on-Open-Source-Projects\\Dataset\\new_data.csv')\n"
     ]
    }
   ],
   "source": [
    "df=pd.read_csv(r'L:\\Thesis\\Exploratory-Analysis-of-Developer-Sentiment-on-Open-Source-Projects\\Dataset\\new_data.csv')"
   ]
  },
  {
   "cell_type": "code",
   "execution_count": 22,
   "metadata": {},
   "outputs": [
    {
     "data": {
      "text/plain": [
       "Index(['Unnamed: 0', 'source_commit', 'repo', 'hash', 'parents', 'author',\n",
       "       'author_time', 'author_tz', 'committer', 'commit_time', 'commit_tz',\n",
       "       'message', 'added', 'removed', 'from_svn', 'accurate_tz', 'issue_id',\n",
       "       'message_sentiment', 'local_commit_time', 'local_author_time',\n",
       "       'part_of_day_commit', 'part_of_day_author', 'source_issue', 'product',\n",
       "       'issue_key', 'created', 'updated', 'last_resolved', 'summary',\n",
       "       'description', 'version', 'milestone', 'status', 'severity', 'priority',\n",
       "       'issuetype', 'resolution', 'component', 'votes', 'product_name',\n",
       "       'reporter_key', 'reporter_tz', 'creator_key', 'creator_tz',\n",
       "       'assignee_key', 'assignee_tz', 'summary_sentiment'],\n",
       "      dtype='object')"
      ]
     },
     "execution_count": 22,
     "metadata": {},
     "output_type": "execute_result"
    }
   ],
   "source": [
    "df.columns"
   ]
  },
  {
   "cell_type": "code",
   "execution_count": 23,
   "metadata": {},
   "outputs": [],
   "source": [
    "df = df[(df['source_commit'] != 'mozilla') & (df['source_issue'] != 'mozilla')]\n"
   ]
  },
  {
   "cell_type": "code",
   "execution_count": 24,
   "metadata": {},
   "outputs": [
    {
     "data": {
      "text/plain": [
       "428"
      ]
     },
     "execution_count": 24,
     "metadata": {},
     "output_type": "execute_result"
    }
   ],
   "source": [
    "len(df['product'].unique())"
   ]
  },
  {
   "cell_type": "code",
   "execution_count": 31,
   "metadata": {},
   "outputs": [
    {
     "data": {
      "text/plain": [
       "array(['apache'], dtype=object)"
      ]
     },
     "execution_count": 31,
     "metadata": {},
     "output_type": "execute_result"
    }
   ],
   "source": [
    "df['source_issue'].unique()"
   ]
  },
  {
   "cell_type": "code",
   "execution_count": 41,
   "metadata": {},
   "outputs": [],
   "source": [
    "df3=df[['repo','committer','commit_time','part_of_day_commit','issue_id','issuetype','priority','message','message_sentiment']]"
   ]
  },
  {
   "cell_type": "code",
   "execution_count": 42,
   "metadata": {},
   "outputs": [
    {
     "data": {
      "text/plain": [
       "Index(['repo', 'committer', 'commit_time', 'part_of_day_commit', 'issue_id',\n",
       "       'issuetype', 'priority', 'message', 'message_sentiment'],\n",
       "      dtype='object')"
      ]
     },
     "execution_count": 42,
     "metadata": {},
     "output_type": "execute_result"
    }
   ],
   "source": [
    "df3.columns"
   ]
  },
  {
   "cell_type": "code",
   "execution_count": 43,
   "metadata": {},
   "outputs": [
    {
     "data": {
      "text/html": [
       "<div>\n",
       "<style scoped>\n",
       "    .dataframe tbody tr th:only-of-type {\n",
       "        vertical-align: middle;\n",
       "    }\n",
       "\n",
       "    .dataframe tbody tr th {\n",
       "        vertical-align: top;\n",
       "    }\n",
       "\n",
       "    .dataframe thead th {\n",
       "        text-align: right;\n",
       "    }\n",
       "</style>\n",
       "<table border=\"1\" class=\"dataframe\">\n",
       "  <thead>\n",
       "    <tr style=\"text-align: right;\">\n",
       "      <th></th>\n",
       "      <th>repo</th>\n",
       "      <th>committer</th>\n",
       "      <th>commit_time</th>\n",
       "      <th>part_of_day_commit</th>\n",
       "      <th>issue_id</th>\n",
       "      <th>issuetype</th>\n",
       "      <th>priority</th>\n",
       "      <th>message</th>\n",
       "      <th>message_sentiment</th>\n",
       "    </tr>\n",
       "  </thead>\n",
       "  <tbody>\n",
       "    <tr>\n",
       "      <th>0</th>\n",
       "      <td>accumulo-bsp</td>\n",
       "      <td>58d05bc1bf093c031c0caead30d37b44c48bdaf1</td>\n",
       "      <td>2013-01-15 23:58:38+00:00</td>\n",
       "      <td>Night</td>\n",
       "      <td>12550786.0</td>\n",
       "      <td>New Feature</td>\n",
       "      <td>Major</td>\n",
       "      <td>ACCUMULO-532 Update contrib to reflect changes...</td>\n",
       "      <td>neutral</td>\n",
       "    </tr>\n",
       "    <tr>\n",
       "      <th>1</th>\n",
       "      <td>accumulo-bsp</td>\n",
       "      <td>58d05bc1bf093c031c0caead30d37b44c48bdaf1</td>\n",
       "      <td>2013-01-22 18:08:30+00:00</td>\n",
       "      <td>Evening</td>\n",
       "      <td>12608497.0</td>\n",
       "      <td>Bug</td>\n",
       "      <td>Minor</td>\n",
       "      <td>ACCUMULO-769 Fix bsp contrib build due to mapr...</td>\n",
       "      <td>neutral</td>\n",
       "    </tr>\n",
       "    <tr>\n",
       "      <th>2</th>\n",
       "      <td>accumulo-bsp</td>\n",
       "      <td>83273207ef443072fc57aa858fff07fd5697a4a8</td>\n",
       "      <td>2012-05-17 17:24:30+00:00</td>\n",
       "      <td>Afternoon</td>\n",
       "      <td>12550786.0</td>\n",
       "      <td>New Feature</td>\n",
       "      <td>Major</td>\n",
       "      <td>ACCUMULO-532 added IOException to constructor ...</td>\n",
       "      <td>neutral</td>\n",
       "    </tr>\n",
       "    <tr>\n",
       "      <th>3</th>\n",
       "      <td>accumulo-bsp</td>\n",
       "      <td>83273207ef443072fc57aa858fff07fd5697a4a8</td>\n",
       "      <td>2012-05-16 14:51:58+00:00</td>\n",
       "      <td>Afternoon</td>\n",
       "      <td>12556041.0</td>\n",
       "      <td>Bug</td>\n",
       "      <td>Major</td>\n",
       "      <td>ACCUMULO-593 restructured contrib git-svn-id: ...</td>\n",
       "      <td>neutral</td>\n",
       "    </tr>\n",
       "    <tr>\n",
       "      <th>4</th>\n",
       "      <td>accumulo-bsp</td>\n",
       "      <td>83273207ef443072fc57aa858fff07fd5697a4a8</td>\n",
       "      <td>2012-05-16 17:42:07+00:00</td>\n",
       "      <td>Afternoon</td>\n",
       "      <td>12556041.0</td>\n",
       "      <td>Bug</td>\n",
       "      <td>Major</td>\n",
       "      <td>ACCUMULO-593 added license header to poms git-...</td>\n",
       "      <td>neutral</td>\n",
       "    </tr>\n",
       "  </tbody>\n",
       "</table>\n",
       "</div>"
      ],
      "text/plain": [
       "           repo                                 committer  \\\n",
       "0  accumulo-bsp  58d05bc1bf093c031c0caead30d37b44c48bdaf1   \n",
       "1  accumulo-bsp  58d05bc1bf093c031c0caead30d37b44c48bdaf1   \n",
       "2  accumulo-bsp  83273207ef443072fc57aa858fff07fd5697a4a8   \n",
       "3  accumulo-bsp  83273207ef443072fc57aa858fff07fd5697a4a8   \n",
       "4  accumulo-bsp  83273207ef443072fc57aa858fff07fd5697a4a8   \n",
       "\n",
       "                 commit_time part_of_day_commit    issue_id    issuetype  \\\n",
       "0  2013-01-15 23:58:38+00:00              Night  12550786.0  New Feature   \n",
       "1  2013-01-22 18:08:30+00:00            Evening  12608497.0          Bug   \n",
       "2  2012-05-17 17:24:30+00:00          Afternoon  12550786.0  New Feature   \n",
       "3  2012-05-16 14:51:58+00:00          Afternoon  12556041.0          Bug   \n",
       "4  2012-05-16 17:42:07+00:00          Afternoon  12556041.0          Bug   \n",
       "\n",
       "  priority                                            message  \\\n",
       "0    Major  ACCUMULO-532 Update contrib to reflect changes...   \n",
       "1    Minor  ACCUMULO-769 Fix bsp contrib build due to mapr...   \n",
       "2    Major  ACCUMULO-532 added IOException to constructor ...   \n",
       "3    Major  ACCUMULO-593 restructured contrib git-svn-id: ...   \n",
       "4    Major  ACCUMULO-593 added license header to poms git-...   \n",
       "\n",
       "  message_sentiment  \n",
       "0           neutral  \n",
       "1           neutral  \n",
       "2           neutral  \n",
       "3           neutral  \n",
       "4           neutral  "
      ]
     },
     "execution_count": 43,
     "metadata": {},
     "output_type": "execute_result"
    }
   ],
   "source": [
    "df3.head()"
   ]
  },
  {
   "cell_type": "code",
   "execution_count": 35,
   "metadata": {},
   "outputs": [
    {
     "name": "stdout",
     "output_type": "stream",
     "text": [
      "Total Repositories: 1145\n",
      "Total Committers: 7680\n",
      "Total Commits: 741272\n",
      "Total Issues: 336831\n"
     ]
    }
   ],
   "source": [
    "total_repos = df3['repo'].nunique()\n",
    "\n",
    "# Calculate total number of committers\n",
    "total_committers = df3['committer'].nunique()\n",
    "\n",
    "# Calculate total number of commits\n",
    "total_commits = df3['commit_time'].count()\n",
    "\n",
    "# Calculate total number of issues\n",
    "total_issues = df3['issue_id'].nunique()\n",
    "\n",
    "# Display the results\n",
    "print(f\"Total Repositories: {total_repos}\")\n",
    "print(f\"Total Committers: {total_committers}\")\n",
    "print(f\"Total Commits: {total_commits}\")\n",
    "print(f\"Total Issues: {total_issues}\")"
   ]
  },
  {
   "cell_type": "code",
   "execution_count": 36,
   "metadata": {},
   "outputs": [
    {
     "name": "stdout",
     "output_type": "stream",
     "text": [
      "Top 10 Committers with Highest Commits:\n",
      "                   repo  commit_count\n",
      "355              hadoop         56396\n",
      "364               hbase         41348\n",
      "532         lucene-solr         39820\n",
      "35               ambari         34297\n",
      "116               camel         26761\n",
      "1088              spark         26003\n",
      "118   camel-spring-boot         19884\n",
      "372                hive         18093\n",
      "330               flink         14326\n",
      "716             phoenix         10888\n"
     ]
    }
   ],
   "source": [
    "commits_per_committer = df3.groupby('repo')['commit_time'].count().reset_index(name='commit_count')\n",
    "\n",
    "# Sort the committers by the number of commits in descending order\n",
    "commits_per_committer_sorted = commits_per_committer.sort_values(by='commit_count', ascending=False)\n",
    "\n",
    "# Select the top 10 committers\n",
    "top_10_committers = commits_per_committer_sorted.head(10)\n",
    "\n",
    "# Display the top 10 committers\n",
    "print(\"Top 10 Committers with Highest Commits:\")\n",
    "print(top_10_committers)"
   ]
  },
  {
   "cell_type": "code",
   "execution_count": 48,
   "metadata": {},
   "outputs": [
    {
     "name": "stderr",
     "output_type": "stream",
     "text": [
      "C:\\Users\\User\\AppData\\Local\\Temp\\ipykernel_17848\\1665033498.py:20: DeprecationWarning: DataFrameGroupBy.apply operated on the grouping columns. This behavior is deprecated, and in a future version of pandas the grouping columns will be excluded from the operation. Either pass `include_groups=False` to exclude the groupings or explicitly select the grouping columns after groupby to silence this warning.\n",
      "  regularity_indices = commits_per_day.groupby(['repo', 'committer'], group_keys=False).apply(\n"
     ]
    }
   ],
   "source": [
    "df3.loc[:, 'commit_time'] = pd.to_datetime(df3['commit_time'])\n",
    "\n",
    "# Calculate the total number of days for each repository\n",
    "repo_durations = df3.groupby('repo')['commit_time'].agg(lambda x: (x.max() - x.min()).days + 1).reset_index(name='total_days')\n",
    "\n",
    "# Calculate commits per day for each developer\n",
    "df3.loc[:, 'commit_date'] = df3['commit_time'].dt.date\n",
    "commits_per_day = df3.groupby(['repo', 'committer', 'commit_date']).size().reset_index(name='commits')\n",
    "\n",
    "# Function to calculate regularity index\n",
    "def calculate_regularity_index(committer_data, total_days):\n",
    "    di = committer_data['commit_date'].nunique()\n",
    "    C = committer_data['commits'].sum()\n",
    "    avg_commits_per_day = C / di\n",
    "    commit_sd = np.sqrt((1 / di) * np.sum((committer_data['commits'] - avg_commits_per_day) ** 2))\n",
    "    R = (di / total_days) * (1 / (commit_sd + 1))\n",
    "    return pd.Series([R, di, C], index=['regularity_index', 'active_days', 'total_commits'])\n",
    "\n",
    "# Apply the function to each group of committer and repo\n",
    "regularity_indices = commits_per_day.groupby(['repo', 'committer'], group_keys=False).apply(\n",
    "    lambda x: calculate_regularity_index(x, repo_durations.loc[repo_durations['repo'] == x['repo'].iloc[0], 'total_days'].values[0])\n",
    ").reset_index()\n",
    "\n",
    "# Classify committers into regular, average, and irregular\n",
    "Q1 = regularity_indices['regularity_index'].quantile(0.25)\n",
    "Q3 = regularity_indices['regularity_index'].quantile(0.75)\n",
    "IQR = Q3 - Q1\n",
    "\n",
    "regularity_indices['category'] = 'medium'\n",
    "regularity_indices.loc[regularity_indices['regularity_index'] <= Q1, 'category'] = 'low'\n",
    "regularity_indices.loc[regularity_indices['regularity_index'] >= Q3, 'category'] = 'high'\n",
    "\n",
    "# Merge all classifications back into df4\n",
    "df4 = df3.merge(regularity_indices[['repo', 'committer', 'category']], on=['repo', 'committer'], how='left')\n",
    "\n",
    "# Save the updated dataframe to a new CSV file\n",
    "df4.to_csv('commits_with_regularity_index.csv', index=False)"
   ]
  },
  {
   "cell_type": "code",
   "execution_count": 49,
   "metadata": {},
   "outputs": [
    {
     "data": {
      "text/html": [
       "<div>\n",
       "<style scoped>\n",
       "    .dataframe tbody tr th:only-of-type {\n",
       "        vertical-align: middle;\n",
       "    }\n",
       "\n",
       "    .dataframe tbody tr th {\n",
       "        vertical-align: top;\n",
       "    }\n",
       "\n",
       "    .dataframe thead th {\n",
       "        text-align: right;\n",
       "    }\n",
       "</style>\n",
       "<table border=\"1\" class=\"dataframe\">\n",
       "  <thead>\n",
       "    <tr style=\"text-align: right;\">\n",
       "      <th></th>\n",
       "      <th>repo</th>\n",
       "      <th>committer</th>\n",
       "      <th>commit_time</th>\n",
       "      <th>part_of_day_commit</th>\n",
       "      <th>issue_id</th>\n",
       "      <th>issuetype</th>\n",
       "      <th>priority</th>\n",
       "      <th>message</th>\n",
       "      <th>message_sentiment</th>\n",
       "      <th>commit_date</th>\n",
       "      <th>category</th>\n",
       "    </tr>\n",
       "  </thead>\n",
       "  <tbody>\n",
       "    <tr>\n",
       "      <th>0</th>\n",
       "      <td>accumulo-bsp</td>\n",
       "      <td>58d05bc1bf093c031c0caead30d37b44c48bdaf1</td>\n",
       "      <td>2013-01-15 23:58:38+00:00</td>\n",
       "      <td>Night</td>\n",
       "      <td>12550786.0</td>\n",
       "      <td>New Feature</td>\n",
       "      <td>Major</td>\n",
       "      <td>ACCUMULO-532 Update contrib to reflect changes...</td>\n",
       "      <td>neutral</td>\n",
       "      <td>2013-01-15</td>\n",
       "      <td>high</td>\n",
       "    </tr>\n",
       "    <tr>\n",
       "      <th>1</th>\n",
       "      <td>accumulo-bsp</td>\n",
       "      <td>58d05bc1bf093c031c0caead30d37b44c48bdaf1</td>\n",
       "      <td>2013-01-22 18:08:30+00:00</td>\n",
       "      <td>Evening</td>\n",
       "      <td>12608497.0</td>\n",
       "      <td>Bug</td>\n",
       "      <td>Minor</td>\n",
       "      <td>ACCUMULO-769 Fix bsp contrib build due to mapr...</td>\n",
       "      <td>neutral</td>\n",
       "      <td>2013-01-22</td>\n",
       "      <td>high</td>\n",
       "    </tr>\n",
       "    <tr>\n",
       "      <th>2</th>\n",
       "      <td>accumulo-bsp</td>\n",
       "      <td>83273207ef443072fc57aa858fff07fd5697a4a8</td>\n",
       "      <td>2012-05-17 17:24:30+00:00</td>\n",
       "      <td>Afternoon</td>\n",
       "      <td>12550786.0</td>\n",
       "      <td>New Feature</td>\n",
       "      <td>Major</td>\n",
       "      <td>ACCUMULO-532 added IOException to constructor ...</td>\n",
       "      <td>neutral</td>\n",
       "      <td>2012-05-17</td>\n",
       "      <td>high</td>\n",
       "    </tr>\n",
       "    <tr>\n",
       "      <th>3</th>\n",
       "      <td>accumulo-bsp</td>\n",
       "      <td>83273207ef443072fc57aa858fff07fd5697a4a8</td>\n",
       "      <td>2012-05-16 14:51:58+00:00</td>\n",
       "      <td>Afternoon</td>\n",
       "      <td>12556041.0</td>\n",
       "      <td>Bug</td>\n",
       "      <td>Major</td>\n",
       "      <td>ACCUMULO-593 restructured contrib git-svn-id: ...</td>\n",
       "      <td>neutral</td>\n",
       "      <td>2012-05-16</td>\n",
       "      <td>high</td>\n",
       "    </tr>\n",
       "    <tr>\n",
       "      <th>4</th>\n",
       "      <td>accumulo-bsp</td>\n",
       "      <td>83273207ef443072fc57aa858fff07fd5697a4a8</td>\n",
       "      <td>2012-05-16 17:42:07+00:00</td>\n",
       "      <td>Afternoon</td>\n",
       "      <td>12556041.0</td>\n",
       "      <td>Bug</td>\n",
       "      <td>Major</td>\n",
       "      <td>ACCUMULO-593 added license header to poms git-...</td>\n",
       "      <td>neutral</td>\n",
       "      <td>2012-05-16</td>\n",
       "      <td>high</td>\n",
       "    </tr>\n",
       "  </tbody>\n",
       "</table>\n",
       "</div>"
      ],
      "text/plain": [
       "           repo                                 committer  \\\n",
       "0  accumulo-bsp  58d05bc1bf093c031c0caead30d37b44c48bdaf1   \n",
       "1  accumulo-bsp  58d05bc1bf093c031c0caead30d37b44c48bdaf1   \n",
       "2  accumulo-bsp  83273207ef443072fc57aa858fff07fd5697a4a8   \n",
       "3  accumulo-bsp  83273207ef443072fc57aa858fff07fd5697a4a8   \n",
       "4  accumulo-bsp  83273207ef443072fc57aa858fff07fd5697a4a8   \n",
       "\n",
       "                commit_time part_of_day_commit    issue_id    issuetype  \\\n",
       "0 2013-01-15 23:58:38+00:00              Night  12550786.0  New Feature   \n",
       "1 2013-01-22 18:08:30+00:00            Evening  12608497.0          Bug   \n",
       "2 2012-05-17 17:24:30+00:00          Afternoon  12550786.0  New Feature   \n",
       "3 2012-05-16 14:51:58+00:00          Afternoon  12556041.0          Bug   \n",
       "4 2012-05-16 17:42:07+00:00          Afternoon  12556041.0          Bug   \n",
       "\n",
       "  priority                                            message  \\\n",
       "0    Major  ACCUMULO-532 Update contrib to reflect changes...   \n",
       "1    Minor  ACCUMULO-769 Fix bsp contrib build due to mapr...   \n",
       "2    Major  ACCUMULO-532 added IOException to constructor ...   \n",
       "3    Major  ACCUMULO-593 restructured contrib git-svn-id: ...   \n",
       "4    Major  ACCUMULO-593 added license header to poms git-...   \n",
       "\n",
       "  message_sentiment commit_date category  \n",
       "0           neutral  2013-01-15     high  \n",
       "1           neutral  2013-01-22     high  \n",
       "2           neutral  2012-05-17     high  \n",
       "3           neutral  2012-05-16     high  \n",
       "4           neutral  2012-05-16     high  "
      ]
     },
     "execution_count": 49,
     "metadata": {},
     "output_type": "execute_result"
    }
   ],
   "source": [
    "df4.head()"
   ]
  }
 ],
 "metadata": {
  "kernelspec": {
   "display_name": "myenv",
   "language": "python",
   "name": "python3"
  },
  "language_info": {
   "codemirror_mode": {
    "name": "ipython",
    "version": 3
   },
   "file_extension": ".py",
   "mimetype": "text/x-python",
   "name": "python",
   "nbconvert_exporter": "python",
   "pygments_lexer": "ipython3",
   "version": "3.10.13"
  }
 },
 "nbformat": 4,
 "nbformat_minor": 2
}
